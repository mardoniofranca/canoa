{
 "cells": [
  {
   "cell_type": "code",
   "execution_count": 1,
   "id": "789b5c93",
   "metadata": {},
   "outputs": [],
   "source": [
    "import os\n",
    "os.environ[\"JAX_PLATFORM_NAME\"] = \"cpu\"\n",
    "import netket as nk\n",
    "import numpy as np\n",
    "import matplotlib.pyplot as plt\n",
    "import netket.nn as nknn\n",
    "import flax.linen as nn\n",
    "import jax.numpy as jnp\n",
    "\n",
    "class FFNN(nn.Module):\n",
    "    @nn.compact\n",
    "    def __call__(self, x):\n",
    "        x = nn.Dense(features=2*x.shape[-1], \n",
    "                     use_bias=True, \n",
    "                     param_dtype=np.complex128, \n",
    "                     kernel_init=nn.initializers.normal(stddev=0.01), \n",
    "                     bias_init=nn.initializers.normal(stddev=0.01)\n",
    "                    )(x)\n",
    "        x = nknn.log_cosh(x)\n",
    "        x = jnp.sum(x, axis=-1)\n",
    "        return x   "
   ]
  },
  {
   "cell_type": "code",
   "execution_count": 24,
   "id": "dffbdafb",
   "metadata": {},
   "outputs": [],
   "source": [
    "global trained_params_list \n",
    "global parameters_list     "
   ]
  },
  {
   "cell_type": "code",
   "execution_count": 2,
   "id": "9d8895ed",
   "metadata": {},
   "outputs": [],
   "source": [
    "import warnings\n",
    "warnings.filterwarnings(\"ignore\")"
   ]
  },
  {
   "cell_type": "code",
   "execution_count": 36,
   "id": "930bf363",
   "metadata": {},
   "outputs": [],
   "source": [
    "def info(e):\n",
    "    head   = list(e.keys())[0]\n",
    "    body   = list(e[head].keys())\n",
    "    bias   = e[head][body[0]]\n",
    "    kernel = e[head][body[1]]\n",
    "    return  head, body, list(bias), list(kernel)\n",
    "def real(c):\n",
    "    return float(np.real(c))  \n",
    "def img(c):\n",
    "    return float(np.imag(c))    \n",
    "def r_i(c):\n",
    "    return real(c),img(c)   "
   ]
  },
  {
   "cell_type": "code",
   "execution_count": 5,
   "id": "223307ad",
   "metadata": {},
   "outputs": [],
   "source": [
    "# Define a função de perda (loss function) para o treinamento\n",
    "def loss(params, structure_factor):\n",
    "    output = model.apply({'params': params}, structure_factor)\n",
    "    return jnp.mean(output)"
   ]
  },
  {
   "cell_type": "code",
   "execution_count": 17,
   "id": "c899fc65",
   "metadata": {},
   "outputs": [],
   "source": []
  },
  {
   "cell_type": "code",
   "execution_count": null,
   "id": "ce44dfc5",
   "metadata": {},
   "outputs": [],
   "source": []
  },
  {
   "cell_type": "code",
   "execution_count": 27,
   "id": "a98dbb79",
   "metadata": {},
   "outputs": [],
   "source": [
    "def run(it):\n",
    "    print(\"------------\",it,\"-------------\")\n",
    "    J = [1, 0.2];L = 8;edge_colors = []\n",
    "    for i in range(L):\n",
    "        edge_colors.append([i, (i+1)%L, 1])\n",
    "        edge_colors.append([i, (i+2)%L, 2])\n",
    "    g = nk.graph.Graph(edges=edge_colors)\n",
    "    sigmaz = [[1, 0], [0, -1]];  mszsz = (np.kron(sigmaz, sigmaz))\n",
    "    exchange = np.asarray([[0, 0, 0, 0], [0, 0, 2, 0], [0, 2, 0, 0], [0, 0, 0, 0]])\n",
    "    bond_operator = [\n",
    "        (J[0] * mszsz).tolist(),    (J[1] * mszsz).tolist(),\n",
    "        (-J[0] * exchange).tolist(),(J[1] * exchange).tolist(),\n",
    "        ]\n",
    "    bond_color = [1, 2, 1, 2];   sigmaz = [[1, 0], [0, -1]]\n",
    "    mszsz = (np.kron(sigmaz, sigmaz));\n",
    "    exchange = np.asarray([[0, 0, 0, 0], [0, 0, 2, 0], [0, 2, 0, 0], [0, 0, 0, 0]])\n",
    "    bond_operator = [\n",
    "        (J[0] * mszsz).tolist(),    (J[1] * mszsz).tolist(),\n",
    "        (-J[0] * exchange).tolist(),(J[1] * exchange).tolist(),\n",
    "    ]\n",
    "    bond_color = [1, 2, 1, 2]\n",
    "    hi = nk.hilbert.Spin(s=0.5, total_sz=0.0, N=g.n_nodes)\n",
    "    op = nk.operator.GraphOperator(hi, graph=g, bond_ops=bond_operator, bond_ops_colors=bond_color)\n",
    "    model = FFNN()\n",
    "    sa = nk.sampler.MetropolisExchange(hilbert=hi, graph=g, d_max = 2)\n",
    "    vs = nk.vqs.MCState(sa, model, n_samples=1008)\n",
    "    vs_i_parameters = vs.parameters.copy()    \n",
    "    opt = nk.optimizer.Sgd(learning_rate=0.01)\n",
    "    sr = nk.optimizer.SR(diag_shift=0.01)\n",
    "    gs = nk.VMC(hamiltonian=op, optimizer=opt, variational_state=vs, preconditioner=sr)\n",
    "    sf = []\n",
    "    sites = []\n",
    "    structure_factor = nk.operator.LocalOperator(hi, dtype=complex)\n",
    "    for i in range(0, L):\n",
    "        for j in range(0, L):\n",
    "            structure_factor += (nk.operator.spin.sigmaz(hi, i)*nk.operator.spin.sigmaz(hi, j))*((-1)**(i-j))/L\n",
    "    trained_params_list = []\n",
    "    parameters_list     = []\n",
    "    \n",
    "    # Função de callback para salvar os parâmetros durante o treinamento\n",
    "    def save_params(step, params, energy):\n",
    "        trained_params_list.append(params.copy())\n",
    "        parameters_list.append(energy.state.parameters.copy())\n",
    "        return True\n",
    "    gs.run(out='test', n_iter=it, obs={'Structure Factor': structure_factor}, callback=save_params)\n",
    "    print(\"------------  -------------\")\n",
    "    return vs_i_parameters, vs.parameters, parameters_list"
   ]
  },
  {
   "cell_type": "code",
   "execution_count": 28,
   "id": "41ec005a",
   "metadata": {},
   "outputs": [
    {
     "name": "stdout",
     "output_type": "stream",
     "text": [
      "------------ 100 -------------\n"
     ]
    },
    {
     "name": "stderr",
     "output_type": "stream",
     "text": [
      "100%|████████████████████████████████████████████████████████████████████████████████| 100/100 [00:05<00:00, 17.49it/s, Energy=-13.4056-0.0012j ± 0.0021 [σ²=0.0046, R̂=1.0105]]"
     ]
    },
    {
     "name": "stdout",
     "output_type": "stream",
     "text": [
      "------------  -------------\n",
      "100\n"
     ]
    },
    {
     "name": "stderr",
     "output_type": "stream",
     "text": [
      "\n"
     ]
    }
   ],
   "source": [
    "vs_i_parameters, parameters, parameters_list  = run(100)"
   ]
  },
  {
   "cell_type": "code",
   "execution_count": 30,
   "id": "e96e787b",
   "metadata": {},
   "outputs": [
    {
     "data": {
      "text/plain": [
       "Array([ 0.0107735 -5.90024997e-03j, -0.00348329+1.86208617e-05j,\n",
       "        0.00278065+2.49753137e-03j,  0.0041145 +1.09895453e-02j,\n",
       "        0.01533332-3.55332764e-03j,  0.00269199+3.48258846e-03j,\n",
       "        0.00079142-2.90021583e-03j,  0.00165894+4.83000123e-03j,\n",
       "       -0.00613418-2.58584781e-03j, -0.0161698 -4.91889383e-03j,\n",
       "        0.00044501+5.16526800e-03j,  0.00473567-4.14902071e-03j,\n",
       "       -0.00297952-8.57810607e-03j, -0.00555106-4.15510558e-03j,\n",
       "        0.00732408+2.42429511e-03j,  0.00133757+1.94564498e-03j],      dtype=complex128)"
      ]
     },
     "execution_count": 30,
     "metadata": {},
     "output_type": "execute_result"
    }
   ],
   "source": [
    "vs_i_parameters['Dense_0']['bias']"
   ]
  },
  {
   "cell_type": "code",
   "execution_count": 32,
   "id": "e8015552",
   "metadata": {},
   "outputs": [
    {
     "data": {
      "text/plain": [
       "Array([ 0.00629866-0.00618058j,  0.00168721+0.0002418j ,\n",
       "        0.00241711+0.00417768j, -0.00246286+0.00507068j,\n",
       "        0.01121054-0.00413867j,  0.0001007 +0.00309828j,\n",
       "        0.00048257-0.00094045j,  0.00244095+0.00308909j,\n",
       "        0.00202159-0.0019732j , -0.00465634-0.0030279j ,\n",
       "       -0.00026279+0.00235873j,  0.00175976-0.00324178j,\n",
       "       -0.00466339-0.00375461j, -0.00380667-0.00364623j,\n",
       "        0.00792056+0.00174386j,  0.00202289+0.00268519j],      dtype=complex128)"
      ]
     },
     "execution_count": 32,
     "metadata": {},
     "output_type": "execute_result"
    }
   ],
   "source": [
    "parameters['Dense_0']['bias']"
   ]
  },
  {
   "cell_type": "code",
   "execution_count": 33,
   "id": "25a196f8",
   "metadata": {},
   "outputs": [
    {
     "data": {
      "text/plain": [
       "Array([ 6.32964393e-03-0.00617504j,  1.69247856e-03+0.00022558j,\n",
       "        2.43571053e-03+0.00417078j, -2.51141180e-03+0.00507832j,\n",
       "        1.11879965e-02-0.00415628j,  7.53256747e-05+0.00311069j,\n",
       "        4.13275658e-04-0.00094683j,  2.50464239e-03+0.00315494j,\n",
       "        1.97785607e-03-0.00205708j, -4.73351279e-03-0.00309966j,\n",
       "       -3.73175974e-04+0.0024452j ,  1.75017302e-03-0.00326143j,\n",
       "       -4.63040972e-03-0.00376002j, -3.80728103e-03-0.00371172j,\n",
       "        7.94004932e-03+0.00166277j,  2.00890534e-03+0.00273026j],      dtype=complex128)"
      ]
     },
     "execution_count": 33,
     "metadata": {},
     "output_type": "execute_result"
    }
   ],
   "source": [
    "parameters_list[-1]['Dense_0']['bias']"
   ]
  },
  {
   "cell_type": "code",
   "execution_count": 37,
   "id": "05d7b9f9",
   "metadata": {},
   "outputs": [],
   "source": [
    "head_i, body_i, bias_i, kernel_i   = info(parameters); "
   ]
  },
  {
   "cell_type": "code",
   "execution_count": 39,
   "id": "51b19383",
   "metadata": {},
   "outputs": [
    {
     "data": {
      "text/plain": [
       "'Dense_0'"
      ]
     },
     "execution_count": 39,
     "metadata": {},
     "output_type": "execute_result"
    }
   ],
   "source": [
    "head_i"
   ]
  },
  {
   "cell_type": "code",
   "execution_count": 42,
   "id": "caeefed0",
   "metadata": {},
   "outputs": [
    {
     "name": "stdout",
     "output_type": "stream",
     "text": [
      "------------ 0 -------------\n"
     ]
    },
    {
     "name": "stderr",
     "output_type": "stream",
     "text": [
      "0it [00:00, ?it/s]\n"
     ]
    },
    {
     "name": "stdout",
     "output_type": "stream",
     "text": [
      "------------  -------------\n",
      "0\n",
      "------------ 10 -------------\n"
     ]
    },
    {
     "name": "stderr",
     "output_type": "stream",
     "text": [
      "100%|██████████████████████████████████████████████████████████████████████████████████████| 10/10 [00:00<00:00, 20.86it/s, Energy=-12.391-0.000j ± 0.099 [σ²=9.838, R̂=1.0065]]\n"
     ]
    },
    {
     "name": "stdout",
     "output_type": "stream",
     "text": [
      "------------  -------------\n",
      "10\n",
      "------------ 20 -------------\n"
     ]
    },
    {
     "name": "stderr",
     "output_type": "stream",
     "text": [
      "100%|██████████████████████████████████████████████████████████████████████████████████████| 20/20 [00:01<00:00, 18.98it/s, Energy=-13.249+0.005j ± 0.043 [σ²=1.891, R̂=1.0062]]\n"
     ]
    },
    {
     "name": "stdout",
     "output_type": "stream",
     "text": [
      "------------  -------------\n",
      "20\n",
      "------------ 30 -------------\n"
     ]
    },
    {
     "name": "stderr",
     "output_type": "stream",
     "text": [
      "100%|██████████████████████████████████████████████████████████████████████████████████████| 30/30 [00:01<00:00, 18.75it/s, Energy=-13.371-0.001j ± 0.019 [σ²=0.348, R̂=1.0181]]\n"
     ]
    },
    {
     "name": "stdout",
     "output_type": "stream",
     "text": [
      "------------  -------------\n",
      "30\n",
      "------------ 40 -------------\n"
     ]
    },
    {
     "name": "stderr",
     "output_type": "stream",
     "text": [
      "100%|██████████████████████████████████████████████████████████████████████████████████| 40/40 [00:02<00:00, 18.11it/s, Energy=-13.3878+0.0008j ± 0.0098 [σ²=0.0959, R̂=1.0307]]\n"
     ]
    },
    {
     "name": "stdout",
     "output_type": "stream",
     "text": [
      "------------  -------------\n",
      "40\n",
      "------------ 50 -------------\n"
     ]
    },
    {
     "name": "stderr",
     "output_type": "stream",
     "text": [
      "100%|██████████████████████████████████████████████████████████████████████████████████| 50/50 [00:02<00:00, 17.97it/s, Energy=-13.4006-0.0009j ± 0.0047 [σ²=0.0221, R̂=1.0238]]\n"
     ]
    },
    {
     "name": "stdout",
     "output_type": "stream",
     "text": [
      "------------  -------------\n",
      "50\n",
      "------------ 60 -------------\n"
     ]
    },
    {
     "name": "stderr",
     "output_type": "stream",
     "text": [
      "100%|██████████████████████████████████████████████████████████████████████████████████| 60/60 [00:03<00:00, 17.55it/s, Energy=-13.4057-0.0001j ± 0.0033 [σ²=0.0107, R̂=1.0133]]\n"
     ]
    },
    {
     "name": "stdout",
     "output_type": "stream",
     "text": [
      "------------  -------------\n",
      "60\n",
      "------------ 70 -------------\n"
     ]
    },
    {
     "name": "stderr",
     "output_type": "stream",
     "text": [
      "100%|██████████████████████████████████████████████████████████████████████████████████| 70/70 [00:03<00:00, 17.55it/s, Energy=-13.4027+0.0017j ± 0.0024 [σ²=0.0058, R̂=1.0106]]\n"
     ]
    },
    {
     "name": "stdout",
     "output_type": "stream",
     "text": [
      "------------  -------------\n",
      "70\n",
      "------------ 80 -------------\n"
     ]
    },
    {
     "name": "stderr",
     "output_type": "stream",
     "text": [
      "100%|██████████████████████████████████████████████████████████████████████████████████| 80/80 [00:04<00:00, 17.27it/s, Energy=-13.4013+0.0003j ± 0.0018 [σ²=0.0034, R̂=1.0017]]\n"
     ]
    },
    {
     "name": "stdout",
     "output_type": "stream",
     "text": [
      "------------  -------------\n",
      "80\n",
      "------------ 90 -------------\n"
     ]
    },
    {
     "name": "stderr",
     "output_type": "stream",
     "text": [
      "100%|██████████████████████████████████████████████████████████████████████████████████| 90/90 [00:05<00:00, 16.76it/s, Energy=-13.4047-0.0035j ± 0.0026 [σ²=0.0071, R̂=1.0098]]"
     ]
    },
    {
     "name": "stdout",
     "output_type": "stream",
     "text": [
      "------------  -------------\n",
      "90\n"
     ]
    },
    {
     "name": "stderr",
     "output_type": "stream",
     "text": [
      "\n"
     ]
    }
   ],
   "source": [
    "it = 0; bia_i_list  = [];bia_f_list = [] ; kernel_i_list = []; kernel_f_list = []\n",
    "lm =[0,100]; step = 10\n",
    "for i in range(lm[0],lm[1],step):\n",
    "    vs_i_parameters, parameters, parameters_list  = run(i)\n",
    "    head_i, body_i, bias_i, kernel_i   = info(vs_i_parameters); \n",
    "    head_f, body_f, bias_f, kernel_f  = info(parameters)\n",
    "    bia_i_list.append(bias_i)\n",
    "    bia_f_list.append(bias_f)\n",
    "    kernel_i_list.append(kernel_i)\n",
    "    kernel_f_list.append(kernel_f)    "
   ]
  },
  {
   "cell_type": "code",
   "execution_count": null,
   "id": "59d038e9",
   "metadata": {},
   "outputs": [],
   "source": [
    "head_i, body_i, bias_i, kernel_i   = info(parameters); \n",
    "\n",
    "head_g, body_g, bias_g, kernel_g   = info(bia_i_list[-1])\n",
    "head_i, body_i, bias_i, kernel_i   = info(vs_i)"
   ]
  },
  {
   "cell_type": "code",
   "execution_count": null,
   "id": "89077795",
   "metadata": {},
   "outputs": [],
   "source": [
    "for l in kernel_i:\n",
    "        for m in l:\n",
    "            print(r_i(m)) \n",
    "            break;"
   ]
  },
  {
   "cell_type": "code",
   "execution_count": null,
   "id": "04d406ea",
   "metadata": {},
   "outputs": [],
   "source": [
    "for l in kernel_g:\n",
    "        for m in l:\n",
    "            print(r_i(m)) \n",
    "            break;"
   ]
  },
  {
   "cell_type": "code",
   "execution_count": null,
   "id": "b71f34b0",
   "metadata": {},
   "outputs": [],
   "source": [
    "for b in bias_g:\n",
    "    print(r_i(b))\n",
    "    break;"
   ]
  },
  {
   "cell_type": "code",
   "execution_count": null,
   "id": "5984f83e",
   "metadata": {},
   "outputs": [],
   "source": [
    "for b in bias_i:\n",
    "    print(r_i(b))\n",
    "    break;"
   ]
  },
  {
   "cell_type": "code",
   "execution_count": null,
   "id": "7c360282",
   "metadata": {},
   "outputs": [],
   "source": [
    "for b in bias_i:\n",
    "    print(r_i(b))\n",
    "    break;"
   ]
  },
  {
   "cell_type": "code",
   "execution_count": null,
   "id": "cd50733b",
   "metadata": {},
   "outputs": [],
   "source": [
    "g"
   ]
  },
  {
   "cell_type": "code",
   "execution_count": null,
   "id": "f78e3f08",
   "metadata": {},
   "outputs": [],
   "source": [
    "vs_i"
   ]
  },
  {
   "cell_type": "code",
   "execution_count": null,
   "id": "9cf2c4ea",
   "metadata": {},
   "outputs": [],
   "source": [
    "for bia in bia_i_list:\n",
    "    for b in bia:\n",
    "        print(r_i(b))"
   ]
  },
  {
   "cell_type": "code",
   "execution_count": null,
   "id": "f25f78aa",
   "metadata": {},
   "outputs": [],
   "source": [
    "for bia in bia_f_list:\n",
    "    for b in bia:\n",
    "        print(r_i(b))"
   ]
  },
  {
   "cell_type": "code",
   "execution_count": null,
   "id": "71c4835e",
   "metadata": {},
   "outputs": [],
   "source": [
    "for kernel in kernel_i_list:\n",
    "    for l in kernel:\n",
    "        for m in l:\n",
    "            print(r_i(m))    "
   ]
  },
  {
   "cell_type": "code",
   "execution_count": null,
   "id": "27861866",
   "metadata": {},
   "outputs": [],
   "source": [
    "for kernel in kernel_f_list:\n",
    "    for l in kernel:\n",
    "        for m in l:\n",
    "            print(r_i(m))      "
   ]
  }
 ],
 "metadata": {
  "kernelspec": {
   "display_name": "Python 3 (ipykernel)",
   "language": "python",
   "name": "python3"
  },
  "language_info": {
   "codemirror_mode": {
    "name": "ipython",
    "version": 3
   },
   "file_extension": ".py",
   "mimetype": "text/x-python",
   "name": "python",
   "nbconvert_exporter": "python",
   "pygments_lexer": "ipython3",
   "version": "3.10.12"
  }
 },
 "nbformat": 4,
 "nbformat_minor": 5
}
