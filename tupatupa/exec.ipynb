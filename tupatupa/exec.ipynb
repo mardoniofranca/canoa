{
 "cells": [
  {
   "cell_type": "code",
   "execution_count": 40,
   "id": "78d69519",
   "metadata": {},
   "outputs": [],
   "source": [
    "import os\n",
    "os.environ[\"JAX_PLATFORM_NAME\"] = \"cpu\"\n",
    "import netket as nk\n",
    "import numpy as np\n",
    "import matplotlib.pyplot as plt\n",
    "import jax"
   ]
  },
  {
   "cell_type": "code",
   "execution_count": 41,
   "id": "582d25bf",
   "metadata": {},
   "outputs": [],
   "source": [
    "import warnings\n",
    "warnings.filterwarnings(\"ignore\")"
   ]
  },
  {
   "cell_type": "code",
   "execution_count": 42,
   "id": "24ed0d6a",
   "metadata": {},
   "outputs": [],
   "source": [
    "#Couplings J1 and J2\n",
    "J = [1, 0.2]\n",
    "L = 8"
   ]
  },
  {
   "cell_type": "code",
   "execution_count": 43,
   "id": "83d5eed8",
   "metadata": {},
   "outputs": [],
   "source": [
    "# Define custom graph\n",
    "edge_colors = []\n",
    "for i in range(L):\n",
    "    edge_colors.append([i, (i+1)%L, 1])\n",
    "    edge_colors.append([i, (i+2)%L, 2])\n",
    "# Define the netket graph object\n",
    "g = nk.graph.Graph(edges=edge_colors)"
   ]
  },
  {
   "cell_type": "code",
   "execution_count": 44,
   "id": "35488cda",
   "metadata": {},
   "outputs": [],
   "source": [
    "#Sigma^z*Sigma^z interactions\n",
    "sigmaz = [[1, 0], [0, -1]]\n",
    "mszsz = (np.kron(sigmaz, sigmaz))\n",
    "exchange = np.asarray([[0, 0, 0, 0], [0, 0, 2, 0], [0, 2, 0, 0], [0, 0, 0, 0]])\n",
    "\n",
    "bond_operator = [\n",
    "    (J[0] * mszsz).tolist(),\n",
    "    (J[1] * mszsz).tolist(),\n",
    "    (-J[0] * exchange).tolist(),  \n",
    "    (J[1] * exchange).tolist(),\n",
    "]\n",
    "\n",
    "bond_color = [1, 2, 1, 2]"
   ]
  },
  {
   "cell_type": "code",
   "execution_count": 45,
   "id": "0e6310a9",
   "metadata": {},
   "outputs": [],
   "source": [
    "hi = nk.hilbert.Spin(s=0.5, total_sz=0.0, N=g.n_nodes)"
   ]
  },
  {
   "cell_type": "code",
   "execution_count": 46,
   "id": "57b4b053",
   "metadata": {},
   "outputs": [],
   "source": [
    "op = nk.operator.GraphOperator(hi, graph=g, bond_ops=bond_operator, bond_ops_colors=bond_color)"
   ]
  },
  {
   "cell_type": "code",
   "execution_count": 47,
   "id": "3bdb228e",
   "metadata": {},
   "outputs": [],
   "source": [
    "import netket.nn as nknn\n",
    "import flax.linen as nn\n",
    "import jax.numpy as jnp\n",
    "\n",
    "class FFNN(nn.Module):\n",
    "    @nn.compact\n",
    "    def __call__(self, x):\n",
    "        x = nn.Dense(features=2*x.shape[-1], \n",
    "                     use_bias=True, \n",
    "                     param_dtype=np.complex128, \n",
    "                     kernel_init=nn.initializers.normal(stddev=0.01), \n",
    "                     bias_init=nn.initializers.normal(stddev=0.01)\n",
    "                    )(x)\n",
    "        x = nknn.log_cosh(x)\n",
    "        x = jnp.sum(x, axis=-1)\n",
    "        return x\n",
    "\n",
    "model = FFNN()"
   ]
  },
  {
   "cell_type": "code",
   "execution_count": 48,
   "id": "705a1fca",
   "metadata": {},
   "outputs": [],
   "source": [
    "sa = nk.sampler.MetropolisExchange(hilbert=hi, graph=g, d_max = 2)\n",
    "vs = nk.vqs.MCState(sa, model, n_samples=1008)\n",
    "opt = nk.optimizer.Sgd(learning_rate=0.01)\n",
    "sr = nk.optimizer.SR(diag_shift=0.01)\n",
    "gs = nk.VMC(hamiltonian=op, optimizer=opt, variational_state=vs, preconditioner=sr)"
   ]
  },
  {
   "cell_type": "code",
   "execution_count": 49,
   "id": "c0feffd2",
   "metadata": {},
   "outputs": [
    {
     "data": {
      "text/plain": [
       "MCState(\n",
       "  hilbert = Spin(s=1/2, total_sz=0.0, N=8),\n",
       "  sampler = MetropolisSampler(rule = ExchangeRule(# of clusters: 28), n_chains = 16, n_sweeps = 8, reset_chains = False, machine_power = 2, dtype = <class 'float'>),\n",
       "  n_samples = 1008,\n",
       "  n_discard_per_chain = 100,\n",
       "  sampler_state = MetropolisSamplerState(rng state=[2647336765 3615970261]),\n",
       "  n_parameters = 144)"
      ]
     },
     "execution_count": 49,
     "metadata": {},
     "output_type": "execute_result"
    }
   ],
   "source": [
    "vs"
   ]
  },
  {
   "cell_type": "code",
   "execution_count": 62,
   "id": "273d0bc9",
   "metadata": {},
   "outputs": [
    {
     "data": {
      "text/plain": [
       "Array([ 0.00251272-0.00988675j, -0.00635292-0.00547227j,\n",
       "        0.00392519+0.00064911j,  0.01189758+0.00403939j,\n",
       "        0.00925428+0.00159196j,  0.00134483-0.01311992j,\n",
       "       -0.00311009+0.0019083j , -0.01207187+0.00580082j,\n",
       "        0.00176632+0.00842852j, -0.00708888+0.00527055j,\n",
       "        0.02008881+0.00174007j, -0.0064344 +0.01264528j,\n",
       "       -0.01143401+0.00442696j,  0.0051914 +0.00510249j,\n",
       "       -0.00361964-0.00530344j,  0.00246203+0.00114288j],      dtype=complex128)"
      ]
     },
     "execution_count": 62,
     "metadata": {},
     "output_type": "execute_result"
    }
   ],
   "source": [
    "vs_i_parameters['Dense_0']['bias']"
   ]
  },
  {
   "cell_type": "code",
   "execution_count": 55,
   "id": "08e5c8a0",
   "metadata": {},
   "outputs": [],
   "source": [
    "# Define a função de perda (loss function) para o treinamento\n",
    "def loss(params, structure_factor):\n",
    "    output = model.apply({'params': params}, structure_factor)\n",
    "    return jnp.mean(output)"
   ]
  },
  {
   "cell_type": "code",
   "execution_count": 56,
   "id": "646fe94a",
   "metadata": {},
   "outputs": [],
   "source": [
    "sf = []\n",
    "sites = []\n",
    "structure_factor = nk.operator.LocalOperator(hi, dtype=complex)\n",
    "for i in range(0, L):\n",
    "    for j in range(0, L):\n",
    "        structure_factor += (nk.operator.spin.sigmaz(hi, i)*nk.operator.spin.sigmaz(hi, j))*((-1)**(i-j))/L"
   ]
  },
  {
   "cell_type": "code",
   "execution_count": 58,
   "id": "3a104893",
   "metadata": {},
   "outputs": [],
   "source": [
    "# Define uma lista para armazenar os parâmetros do modelo durante o treinamento\n",
    "trained_params_list = []\n",
    "parameters_list     = []\n",
    "iii                 = []\n",
    "# Função de callback para salvar os parâmetros durante o treinamento\n",
    "def save_params(step, params, energy):\n",
    "    #print(\"############ it    \", 1 + len(iii))\n",
    "    #print(\"############ energy\", energy.state.parameters)\n",
    "    \n",
    "    trained_params_list.append(params.copy())\n",
    "    parameters_list.append(energy.state.parameters.copy())\n",
    "    iii.append(1)\n",
    "    return True"
   ]
  },
  {
   "cell_type": "code",
   "execution_count": 59,
   "id": "216e9af1",
   "metadata": {},
   "outputs": [
    {
     "name": "stderr",
     "output_type": "stream",
     "text": [
      "100%|████████████████████████████████████████████████████████████████████████████| 300/300 [00:19<00:00, 15.41it/s, Energy=-13.40274+0.00022j ± 0.00044 [σ²=0.00020, R̂=1.0093]]\n"
     ]
    },
    {
     "data": {
      "text/plain": [
       "(JsonLog('test', mode=write, autoflush_cost=0.005)\n",
       "   Runtime cost:\n",
       "   \tLog:    0.06972908973693848\n",
       "   \tParams: 0.001984119415283203,)"
      ]
     },
     "execution_count": 59,
     "metadata": {},
     "output_type": "execute_result"
    }
   ],
   "source": [
    "gs.run(out='test', n_iter=300, obs={'Structure Factor': structure_factor}, callback=save_params)"
   ]
  },
  {
   "cell_type": "code",
   "execution_count": 63,
   "id": "bdc5091a",
   "metadata": {},
   "outputs": [
    {
     "data": {
      "text/plain": [
       "Array([ 0.00251272-0.00988675j, -0.00635292-0.00547227j,\n",
       "        0.00392519+0.00064911j,  0.01189758+0.00403939j,\n",
       "        0.00925428+0.00159196j,  0.00134483-0.01311992j,\n",
       "       -0.00311009+0.0019083j , -0.01207187+0.00580082j,\n",
       "        0.00176632+0.00842852j, -0.00708888+0.00527055j,\n",
       "        0.02008881+0.00174007j, -0.0064344 +0.01264528j,\n",
       "       -0.01143401+0.00442696j,  0.0051914 +0.00510249j,\n",
       "       -0.00361964-0.00530344j,  0.00246203+0.00114288j],      dtype=complex128)"
      ]
     },
     "execution_count": 63,
     "metadata": {},
     "output_type": "execute_result"
    }
   ],
   "source": [
    "vs_i_parameters['Dense_0']['bias']"
   ]
  },
  {
   "cell_type": "code",
   "execution_count": 60,
   "id": "c77b718b",
   "metadata": {},
   "outputs": [
    {
     "data": {
      "text/plain": [
       "Array([ 0.00180268-0.00252496j,  0.00136733-0.00056385j,\n",
       "        0.00212432-0.00436502j,  0.00554233+0.00246408j,\n",
       "       -0.00117289+0.00021168j,  0.00347624-0.00024031j,\n",
       "       -0.00221386+0.00177004j, -0.00255286+0.00114417j,\n",
       "       -0.00114083+0.00243313j, -0.00512626+0.0052904j ,\n",
       "        0.00383401+0.00088031j,  0.00084268+0.00596297j,\n",
       "       -0.00206288+0.00124847j,  0.00049361+0.00082766j,\n",
       "       -0.00140611+0.00111019j,  0.00150738-0.00154616j],      dtype=complex128)"
      ]
     },
     "execution_count": 60,
     "metadata": {},
     "output_type": "execute_result"
    }
   ],
   "source": [
    "vs.parameters['Dense_0']['bias']"
   ]
  },
  {
   "cell_type": "code",
   "execution_count": 64,
   "id": "d880a1c8",
   "metadata": {},
   "outputs": [
    {
     "data": {
      "text/plain": [
       "Array([ 0.00180217-0.00251152j,  0.00135909-0.00057767j,\n",
       "        0.00211597-0.00435713j,  0.00555341+0.00246417j,\n",
       "       -0.00116199+0.00021222j,  0.00349   -0.00026497j,\n",
       "       -0.00221237+0.00178953j, -0.00255608+0.00114619j,\n",
       "       -0.00114757+0.00244537j, -0.00511356+0.00526814j,\n",
       "        0.00385049+0.00088343j,  0.00084044+0.00597642j,\n",
       "       -0.00207499+0.00127593j,  0.00049015+0.00081769j,\n",
       "       -0.00142138+0.00109876j,  0.00150515-0.00154129j],      dtype=complex128)"
      ]
     },
     "execution_count": 64,
     "metadata": {},
     "output_type": "execute_result"
    }
   ],
   "source": [
    "parameters_list[-1]['Dense_0']['bias']"
   ]
  },
  {
   "cell_type": "code",
   "execution_count": null,
   "id": "31a8af69",
   "metadata": {},
   "outputs": [],
   "source": [
    "list(vs_i_parameters['Dense_0']['kernel']"
   ]
  },
  {
   "cell_type": "code",
   "execution_count": 38,
   "id": "f916e51a",
   "metadata": {},
   "outputs": [
    {
     "data": {
      "text/plain": [
       "Array([ 0.00240868-0.05934615j,  0.14920958+0.08744754j,\n",
       "       -0.12718667+0.10624626j, -0.00565899+0.19991692j,\n",
       "        0.00744991+0.12459088j,  0.09170598-0.0074441j ,\n",
       "        0.05933686-0.05879388j, -0.06972199+0.21521495j,\n",
       "        0.09352375+0.23475587j,  0.07308585-0.07340458j,\n",
       "       -0.09164095-0.04256573j, -0.03415678+0.21244502j,\n",
       "       -0.15320064-0.00337424j, -0.01880855+0.18705987j,\n",
       "       -0.12531965-0.11590249j, -0.00340865-0.01036198j],      dtype=complex128)"
      ]
     },
     "execution_count": 38,
     "metadata": {},
     "output_type": "execute_result"
    }
   ],
   "source": [
    "list(vs.parameters['Dense_0']['kernel'])[0]"
   ]
  },
  {
   "cell_type": "code",
   "execution_count": 39,
   "id": "662da8d0",
   "metadata": {},
   "outputs": [
    {
     "data": {
      "text/plain": [
       "Array([ 0.00244307-0.05930074j,  0.149243  +0.08746194j,\n",
       "       -0.12718226+0.10622449j, -0.00566049+0.19998888j,\n",
       "        0.00740833+0.12457445j,  0.09170855-0.00745465j,\n",
       "        0.05937607-0.05877456j, -0.0697046 +0.21508718j,\n",
       "        0.09350699+0.23480969j,  0.07307471-0.07337257j,\n",
       "       -0.09165947-0.04256373j, -0.03409473+0.21243304j,\n",
       "       -0.15315985-0.00334263j, -0.01886052+0.1870421j ,\n",
       "       -0.12526718-0.11589971j, -0.00341532-0.01034179j],      dtype=complex128)"
      ]
     },
     "execution_count": 39,
     "metadata": {},
     "output_type": "execute_result"
    }
   ],
   "source": [
    "list(parameters_list[-1]['Dense_0']['kernel'])[0]"
   ]
  },
  {
   "cell_type": "code",
   "execution_count": null,
   "id": "f26272ee",
   "metadata": {},
   "outputs": [],
   "source": [
    "# Load the data from the .log file\n",
    "import json\n",
    "\n",
    "data=json.load(open(\"test.log\"))\n",
    "\n",
    "iters = data['Energy']['iters']\n",
    "energy=data['Energy']['Mean']['real']\n",
    "sf=data['Structure Factor']['Mean']['real']"
   ]
  },
  {
   "cell_type": "code",
   "execution_count": null,
   "id": "f55fd0a3",
   "metadata": {},
   "outputs": [],
   "source": [
    "fig, ax1 = plt.subplots()\n",
    "ax1.plot(iters, energy, color='blue', label='Energy')\n",
    "ax1.set_ylabel('Energy')\n",
    "ax1.set_xlabel('Iteration')\n",
    "ax2 = ax1.twinx() \n",
    "ax2.plot(iters, np.array(sf), color='green', label='Structure Factor')\n",
    "ax2.set_ylabel('Structure Factor')\n",
    "ax1.legend(loc=2)\n",
    "ax2.legend(loc=1)\n",
    "plt.show()"
   ]
  },
  {
   "cell_type": "code",
   "execution_count": null,
   "id": "795ab6d1",
   "metadata": {},
   "outputs": [],
   "source": [
    "print(r\"Structure factor = {0:.3f}({1:.3f})\".format(np.mean(sf[-50:]),\n",
    "                                              np.std(np.array(sf[-50:]))/np.sqrt(50)))\n",
    "print(r\"Energy = {0:.3f}({1:.3f})\".format(np.mean(energy[-50:]), np.std(energy[-50:])/(np.sqrt(50))))"
   ]
  },
  {
   "cell_type": "code",
   "execution_count": null,
   "id": "b5313d54",
   "metadata": {},
   "outputs": [],
   "source": [
    "E_gs, ket_gs = nk.exact.lanczos_ed(op, compute_eigenvectors=True)\n",
    "structure_factor_gs = (ket_gs.T.conj()@structure_factor.to_linear_operator()@ket_gs).real[0,0]"
   ]
  },
  {
   "cell_type": "code",
   "execution_count": null,
   "id": "e53cb9f1",
   "metadata": {},
   "outputs": [],
   "source": [
    "print(\"Exact Ground-state Structure Factor: {0:.3f}\".format(structure_factor_gs))\n",
    "print(\"Exact ground state energy = {0:.3f}\".format(E_gs[0]))"
   ]
  },
  {
   "cell_type": "code",
   "execution_count": null,
   "id": "9a5d11fb",
   "metadata": {},
   "outputs": [],
   "source": []
  }
 ],
 "metadata": {
  "kernelspec": {
   "display_name": "Python 3 (ipykernel)",
   "language": "python",
   "name": "python3"
  },
  "language_info": {
   "codemirror_mode": {
    "name": "ipython",
    "version": 3
   },
   "file_extension": ".py",
   "mimetype": "text/x-python",
   "name": "python",
   "nbconvert_exporter": "python",
   "pygments_lexer": "ipython3",
   "version": "3.10.12"
  }
 },
 "nbformat": 4,
 "nbformat_minor": 5
}
