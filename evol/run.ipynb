{
 "cells": [
  {
   "cell_type": "code",
   "execution_count": 1,
   "id": "789b5c93",
   "metadata": {},
   "outputs": [],
   "source": [
    "import os\n",
    "os.environ[\"JAX_PLATFORM_NAME\"] = \"cpu\"\n",
    "import netket as nk\n",
    "import numpy as np\n",
    "import matplotlib.pyplot as plt\n",
    "import netket.nn as nknn\n",
    "import flax.linen as nn\n",
    "import jax.numpy as jnp\n",
    "\n",
    "class FFNN(nn.Module):\n",
    "    @nn.compact\n",
    "    def __call__(self, x):\n",
    "        x = nn.Dense(features=2*x.shape[-1], \n",
    "                     use_bias=True, \n",
    "                     param_dtype=np.complex128, \n",
    "                     kernel_init=nn.initializers.normal(stddev=0.01), \n",
    "                     bias_init=nn.initializers.normal(stddev=0.01)\n",
    "                    )(x)\n",
    "        x = nknn.log_cosh(x)\n",
    "        x = jnp.sum(x, axis=-1)\n",
    "        return x\n",
    "    "
   ]
  },
  {
   "cell_type": "code",
   "execution_count": 2,
   "id": "9d8895ed",
   "metadata": {},
   "outputs": [],
   "source": [
    "import warnings\n",
    "warnings.filterwarnings(\"ignore\")"
   ]
  },
  {
   "cell_type": "code",
   "execution_count": 3,
   "id": "930bf363",
   "metadata": {},
   "outputs": [],
   "source": [
    "def info(e):\n",
    "    head   = list(e.parameters.keys())[0]\n",
    "    body   = list(e.parameters[head].keys())\n",
    "    bias   = e.parameters[head][body[0]]\n",
    "    kernel = e.parameters[head][body[1]]\n",
    "    return  head, body, list(bias), list(kernel)\n",
    "def real(c):\n",
    "    return float(np.real(c))  \n",
    "def img(c):\n",
    "    return float(np.imag(c))    \n",
    "def r_i(c):\n",
    "    return real(c),img(c)   "
   ]
  },
  {
   "cell_type": "code",
   "execution_count": 4,
   "id": "a98dbb79",
   "metadata": {},
   "outputs": [],
   "source": [
    "def run(it):\n",
    "    print(\"------------\",it,\"-------------\")\n",
    "    J = [1, 0.2];L = 8;edge_colors = []\n",
    "    for i in range(L):\n",
    "        edge_colors.append([i, (i+1)%L, 1])\n",
    "        edge_colors.append([i, (i+2)%L, 2])\n",
    "    g = nk.graph.Graph(edges=edge_colors)\n",
    "    sigmaz = [[1, 0], [0, -1]];  mszsz = (np.kron(sigmaz, sigmaz))\n",
    "    exchange = np.asarray([[0, 0, 0, 0], [0, 0, 2, 0], [0, 2, 0, 0], [0, 0, 0, 0]])\n",
    "    bond_operator = [\n",
    "        (J[0] * mszsz).tolist(),    (J[1] * mszsz).tolist(),\n",
    "        (-J[0] * exchange).tolist(),(J[1] * exchange).tolist(),\n",
    "        ]\n",
    "    bond_color = [1, 2, 1, 2];   sigmaz = [[1, 0], [0, -1]]\n",
    "    mszsz = (np.kron(sigmaz, sigmaz));\n",
    "    exchange = np.asarray([[0, 0, 0, 0], [0, 0, 2, 0], [0, 2, 0, 0], [0, 0, 0, 0]])\n",
    "    bond_operator = [\n",
    "        (J[0] * mszsz).tolist(),    (J[1] * mszsz).tolist(),\n",
    "        (-J[0] * exchange).tolist(),(J[1] * exchange).tolist(),\n",
    "    ]\n",
    "    bond_color = [1, 2, 1, 2]\n",
    "    hi = nk.hilbert.Spin(s=0.5, total_sz=0.0, N=g.n_nodes)\n",
    "    op = nk.operator.GraphOperator(hi, graph=g, bond_ops=bond_operator, bond_ops_colors=bond_color)\n",
    "    \n",
    "    model = FFNN()    \n",
    "    \n",
    "    sa = nk.sampler.MetropolisExchange(hilbert=hi, graph=g, d_max = 2)\n",
    "    vs = nk.vqs.MCState(sa, model, n_samples=1008)\n",
    "    vs_i = vs;\n",
    "    opt = nk.optimizer.Sgd(learning_rate=0.01)\n",
    "    sr = nk.optimizer.SR(diag_shift=0.01)\n",
    "    gs = nk.VMC(hamiltonian=op, optimizer=opt, variational_state=vs, preconditioner=sr)\n",
    "    sf = []\n",
    "    sites = []\n",
    "    structure_factor = nk.operator.LocalOperator(hi, dtype=complex)\n",
    "    for i in range(0, L):\n",
    "        for j in range(0, L):\n",
    "            structure_factor += (nk.operator.spin.sigmaz(hi, i)*nk.operator.spin.sigmaz(hi, j))*((-1)**(i-j))/L\n",
    "    gs.run(out='test', n_iter=it, obs={'Structure Factor': structure_factor}) \n",
    "    print(\"------------  -------------\")\n",
    "    vs_f = vs\n",
    "    \n",
    "    return vs_i, vs_f, gs"
   ]
  },
  {
   "cell_type": "code",
   "execution_count": 5,
   "id": "caeefed0",
   "metadata": {},
   "outputs": [
    {
     "name": "stdout",
     "output_type": "stream",
     "text": [
      "------------ 10 -------------\n"
     ]
    },
    {
     "name": "stderr",
     "output_type": "stream",
     "text": [
      "100%|█| 10/10 [00:00<00:00, 19.40it/s, Energy=-11.95-0.00j ± 0.10 [σ²=10.96, R̂=\n"
     ]
    },
    {
     "name": "stdout",
     "output_type": "stream",
     "text": [
      "------------  -------------\n"
     ]
    }
   ],
   "source": [
    "it = 0; bia_i_list  = [];bia_f_list = [] ; kernel_i_list = []; kernel_f_list = []\n",
    "#for i in range(40,50):\n",
    "for i in range(0,10):\n",
    "    #it = i*(10) + 10\n",
    "    it = i + 10\n",
    "    vs_i, vs_f, g  = run(it)\n",
    "    head_i, body_i, bias_i, kernel_i   = info(vs_i); \n",
    "    head_f, body_f, bias_f, kernel_f  = info(vs_f)\n",
    "    bia_i_list.append(bias_i)\n",
    "    bia_f_list.append(bias_f)\n",
    "    kernel_i_list.append(kernel_i)\n",
    "    kernel_f_list.append(kernel_f)    \n",
    "    break;"
   ]
  },
  {
   "cell_type": "code",
   "execution_count": 10,
   "id": "c1367720",
   "metadata": {},
   "outputs": [
    {
     "data": {
      "text/plain": [
       "MCState(\n",
       "  hilbert = Spin(s=1/2, total_sz=0.0, N=8),\n",
       "  sampler = MetropolisSampler(rule = ExchangeRule(# of clusters: 28), n_chains = 16, n_sweeps = 8, reset_chains = False, machine_power = 2, dtype = <class 'float'>),\n",
       "  n_samples = 1008,\n",
       "  n_discard_per_chain = 100,\n",
       "  sampler_state = MetropolisSamplerState(# accepted = 16635/20864 (79.73063650306749%), rng state=[ 234656659 1159882200]),\n",
       "  n_parameters = 144)"
      ]
     },
     "execution_count": 10,
     "metadata": {},
     "output_type": "execute_result"
    }
   ],
   "source": [
    "g.state"
   ]
  },
  {
   "cell_type": "code",
   "execution_count": 9,
   "id": "89c58415",
   "metadata": {},
   "outputs": [
    {
     "data": {
      "text/plain": [
       "Vmc(\n",
       "  step_count = 10,\n",
       "  state = MCState(hilbert = Spin(s=1/2, total_sz=0.0, N=8), sampler = MetropolisSampler(rule = ExchangeRule(# of clusters: 28), n_chains = 16, n_sweeps = 8, reset_chains = False, machine_power = 2, dtype = <class 'float'>), n_samples = 1008))"
      ]
     },
     "execution_count": 9,
     "metadata": {},
     "output_type": "execute_result"
    }
   ],
   "source": [
    "g"
   ]
  },
  {
   "cell_type": "code",
   "execution_count": 6,
   "id": "fb96a284",
   "metadata": {},
   "outputs": [
    {
     "data": {
      "text/plain": [
       "MCState(\n",
       "  hilbert = Spin(s=1/2, total_sz=0.0, N=8),\n",
       "  sampler = MetropolisSampler(rule = ExchangeRule(# of clusters: 28), n_chains = 16, n_sweeps = 8, reset_chains = False, machine_power = 2, dtype = <class 'float'>),\n",
       "  n_samples = 1008,\n",
       "  n_discard_per_chain = 100,\n",
       "  sampler_state = MetropolisSamplerState(# accepted = 16635/20864 (79.73063650306749%), rng state=[ 234656659 1159882200]),\n",
       "  n_parameters = 144)"
      ]
     },
     "execution_count": 6,
     "metadata": {},
     "output_type": "execute_result"
    }
   ],
   "source": [
    "vs_f"
   ]
  },
  {
   "cell_type": "code",
   "execution_count": 11,
   "id": "9524ebb9",
   "metadata": {},
   "outputs": [
    {
     "data": {
      "text/plain": [
       "MCState(\n",
       "  hilbert = Spin(s=1/2, total_sz=0.0, N=8),\n",
       "  sampler = MetropolisSampler(rule = ExchangeRule(# of clusters: 28), n_chains = 16, n_sweeps = 8, reset_chains = False, machine_power = 2, dtype = <class 'float'>),\n",
       "  n_samples = 1008,\n",
       "  n_discard_per_chain = 100,\n",
       "  sampler_state = MetropolisSamplerState(# accepted = 16635/20864 (79.73063650306749%), rng state=[ 234656659 1159882200]),\n",
       "  n_parameters = 144)"
      ]
     },
     "execution_count": 11,
     "metadata": {},
     "output_type": "execute_result"
    }
   ],
   "source": [
    "vs_f"
   ]
  },
  {
   "cell_type": "code",
   "execution_count": 7,
   "id": "1773cafc",
   "metadata": {},
   "outputs": [
    {
     "data": {
      "text/plain": [
       "{'Dense_0': {'bias': Array([-0.00270085-0.01020368j, -0.0063255 +0.01663j   ,\n",
       "         -0.00566629-0.00173295j,  0.01165582-0.00322587j,\n",
       "         -0.00109178+0.00325852j,  0.00692918-0.00133645j,\n",
       "          0.00536029-0.00450292j,  0.0097808 +0.01201983j,\n",
       "         -0.00858378+0.00624034j, -0.0056656 +0.00561149j,\n",
       "         -0.0070984 -0.00424987j, -0.00160859+0.00041818j,\n",
       "         -0.00346794+0.00842797j, -0.00477604+0.01029099j,\n",
       "         -0.00582455+0.00022033j,  0.00714422-0.00463331j],      dtype=complex128),\n",
       "  'kernel': Array([[ 0.12942524-0.05155985j,  0.03200601+0.04617393j,\n",
       "          -0.01360799-0.02912333j, -0.04020112-0.10784593j,\n",
       "          -0.08405289-0.02171291j,  0.03339837+0.02709561j,\n",
       "          -0.12237747-0.0441213j ,  0.08344419-0.04289496j,\n",
       "          -0.07549742-0.0455817j , -0.07444407-0.08477516j,\n",
       "          -0.02928698+0.04822322j,  0.04404021-0.16529122j,\n",
       "          -0.01930931-0.04113447j,  0.01496   -0.07737549j,\n",
       "           0.02595941-0.11317653j,  0.04146922-0.01141396j],\n",
       "         [-0.12250667-0.03566403j, -0.06179896+0.08192394j,\n",
       "           0.00037719-0.02238886j,  0.01725968+0.01577082j,\n",
       "           0.08048947-0.12918968j,  0.02451617+0.04220189j,\n",
       "           0.0358404 -0.03375817j, -0.05273444-0.06382862j,\n",
       "           0.1087336 +0.06653612j,  0.0945018 -0.03313759j,\n",
       "           0.05397659+0.05293054j, -0.02970971-0.1644352j ,\n",
       "           0.06448567-0.00139563j, -0.07721816-0.00674486j,\n",
       "          -0.01284131-0.09601889j, -0.00077928+0.06832553j],\n",
       "         [ 0.09916032+0.05881121j,  0.08080928+0.07735199j,\n",
       "           0.04851124-0.00023623j,  0.0107186 +0.11006348j,\n",
       "          -0.04855212-0.14218872j, -0.04133072+0.06390028j,\n",
       "           0.05394358+0.02247856j,  0.02507527-0.05952601j,\n",
       "          -0.04906947+0.10861486j, -0.12844027+0.05064301j,\n",
       "          -0.07023274+0.01948706j,  0.00899362-0.07720064j,\n",
       "          -0.09508181+0.02643268j,  0.08604607+0.0629385j ,\n",
       "          -0.00366162-0.00568531j, -0.04994838+0.08745181j],\n",
       "         [-0.05928046+0.12425389j, -0.08685477+0.0329901j ,\n",
       "          -0.10318205+0.01558584j, -0.03323632+0.11871761j,\n",
       "          -0.00594659-0.05445297j,  0.01030249+0.04760219j,\n",
       "          -0.10952733+0.09187803j,  0.01094051-0.0404663j ,\n",
       "          -0.04554874+0.08529223j,  0.121133  +0.08626326j,\n",
       "           0.06845214-0.05557131j, -0.01165901+0.0544751j ,\n",
       "           0.09446601+0.04602804j, -0.04872165+0.05093716j,\n",
       "           0.01378033+0.07154497j,  0.08195176+0.07074976j],\n",
       "         [ 0.01751509+0.07277394j,  0.05978787-0.0414004j ,\n",
       "           0.13896149+0.00397619j,  0.02175382+0.06772146j,\n",
       "           0.04999814+0.03409679j,  0.05729929-0.0243275j ,\n",
       "           0.07357195+0.06962311j, -0.00431529+0.01753051j,\n",
       "           0.13892549+0.02483264j, -0.118845  +0.0712267j ,\n",
       "          -0.04229188-0.09079036j,  0.02406668+0.16499042j,\n",
       "          -0.06244989+0.05411332j, -0.03067127+0.01237864j,\n",
       "          -0.02250654+0.09549287j, -0.08445547+0.04289015j],\n",
       "         [-0.00632222-0.02304919j, -0.03308695-0.09443513j,\n",
       "          -0.11525983+0.01287611j,  0.0045289 +0.00192244j,\n",
       "          -0.04266464+0.09733551j, -0.12104972-0.08723226j,\n",
       "           0.02765474-0.00718491j, -0.01940766+0.08229854j,\n",
       "          -0.1580307 -0.0357536j ,  0.07409046+0.01942514j,\n",
       "           0.00558443-0.05362352j, -0.04221859+0.18104077j,\n",
       "           0.01180438+0.01355385j,  0.08883055+0.00981409j,\n",
       "           0.0145528 +0.06842981j,  0.02939587-0.03271432j],\n",
       "         [ 0.05383588-0.05475325j,  0.0095868 -0.08248795j,\n",
       "           0.06644727+0.02257956j, -0.03218259-0.07993344j,\n",
       "           0.00182612+0.12050938j,  0.14140118-0.05251103j,\n",
       "          -0.12944686-0.0572608j ,  0.06885299+0.08344136j,\n",
       "           0.11109993-0.08216951j, -0.05628932-0.0281686j ,\n",
       "           0.0038022 +0.01197883j,  0.05502967+0.07261467j,\n",
       "           0.02160557-0.04360214j, -0.10694686-0.01386087j,\n",
       "           0.01116499+0.01822152j,  0.02347576-0.10563278j],\n",
       "         [-0.09792297-0.04602034j, -0.01458231-0.02250828j,\n",
       "          -0.00883138+0.00053662j,  0.04487375-0.14032733j,\n",
       "           0.05269824+0.08382127j, -0.10159113+0.00322745j,\n",
       "           0.16573738-0.05951994j, -0.08456396+0.0217549j ,\n",
       "          -0.00413779-0.10420158j,  0.04793361-0.06792753j,\n",
       "           0.00401806+0.04428535j, -0.05588441-0.06703599j,\n",
       "          -0.01220354-0.06567516j,  0.05707561-0.06578255j,\n",
       "          -0.02419136-0.05288274j, -0.05599198-0.09660675j]],      dtype=complex128)}}"
      ]
     },
     "execution_count": 7,
     "metadata": {},
     "output_type": "execute_result"
    }
   ],
   "source": [
    "vs_f.parameters"
   ]
  },
  {
   "cell_type": "code",
   "execution_count": null,
   "id": "3f79b29e",
   "metadata": {},
   "outputs": [],
   "source": []
  },
  {
   "cell_type": "code",
   "execution_count": null,
   "id": "4eff7650",
   "metadata": {},
   "outputs": [],
   "source": []
  },
  {
   "cell_type": "code",
   "execution_count": null,
   "id": "7717d6ca",
   "metadata": {},
   "outputs": [],
   "source": []
  },
  {
   "cell_type": "code",
   "execution_count": null,
   "id": "43164647",
   "metadata": {},
   "outputs": [],
   "source": []
  },
  {
   "cell_type": "code",
   "execution_count": null,
   "id": "ad51753f",
   "metadata": {},
   "outputs": [],
   "source": []
  },
  {
   "cell_type": "code",
   "execution_count": null,
   "id": "dbb62305",
   "metadata": {},
   "outputs": [],
   "source": [
    "g"
   ]
  },
  {
   "cell_type": "code",
   "execution_count": null,
   "id": "877c7a00",
   "metadata": {},
   "outputs": [],
   "source": []
  },
  {
   "cell_type": "code",
   "execution_count": null,
   "id": "02908de0",
   "metadata": {},
   "outputs": [],
   "source": [
    "g.state"
   ]
  },
  {
   "cell_type": "code",
   "execution_count": null,
   "id": "eba21cec",
   "metadata": {},
   "outputs": [],
   "source": [
    "g.state.parameters.keys()"
   ]
  },
  {
   "cell_type": "code",
   "execution_count": null,
   "id": "a2d9ed11",
   "metadata": {},
   "outputs": [],
   "source": [
    "g.state.parameters['Dense_0']"
   ]
  },
  {
   "cell_type": "code",
   "execution_count": null,
   "id": "cea8c250",
   "metadata": {},
   "outputs": [],
   "source": [
    "vs_i.parameters['Dense_0']"
   ]
  },
  {
   "cell_type": "code",
   "execution_count": null,
   "id": "aa097b32",
   "metadata": {},
   "outputs": [],
   "source": [
    "g.state.parameters['Dense_0']"
   ]
  },
  {
   "cell_type": "code",
   "execution_count": null,
   "id": "d03edbab",
   "metadata": {},
   "outputs": [],
   "source": [
    "vs.parameters[head]"
   ]
  },
  {
   "cell_type": "code",
   "execution_count": null,
   "id": "db371f36",
   "metadata": {},
   "outputs": [],
   "source": [
    "g"
   ]
  },
  {
   "cell_type": "code",
   "execution_count": null,
   "id": "451ccd16",
   "metadata": {},
   "outputs": [],
   "source": [
    "vs_i"
   ]
  },
  {
   "cell_type": "code",
   "execution_count": null,
   "id": "29e268d2",
   "metadata": {},
   "outputs": [],
   "source": [
    "g.state"
   ]
  },
  {
   "cell_type": "code",
   "execution_count": null,
   "id": "59d038e9",
   "metadata": {},
   "outputs": [],
   "source": [
    "head_g, body_g, bias_g, kernel_g   = info(g.state)\n",
    "head_i, body_i, bias_i, kernel_i   = info(vs_i)"
   ]
  },
  {
   "cell_type": "code",
   "execution_count": null,
   "id": "89077795",
   "metadata": {},
   "outputs": [],
   "source": [
    "for l in kernel_i:\n",
    "        for m in l:\n",
    "            print(r_i(m)) \n",
    "            break;"
   ]
  },
  {
   "cell_type": "code",
   "execution_count": null,
   "id": "04d406ea",
   "metadata": {},
   "outputs": [],
   "source": [
    "for l in kernel_g:\n",
    "        for m in l:\n",
    "            print(r_i(m)) \n",
    "            break;"
   ]
  },
  {
   "cell_type": "code",
   "execution_count": null,
   "id": "b71f34b0",
   "metadata": {},
   "outputs": [],
   "source": [
    "for b in bias_g:\n",
    "    print(r_i(b))\n",
    "    break;"
   ]
  },
  {
   "cell_type": "code",
   "execution_count": null,
   "id": "5984f83e",
   "metadata": {},
   "outputs": [],
   "source": [
    "for b in bias_i:\n",
    "    print(r_i(b))\n",
    "    break;"
   ]
  },
  {
   "cell_type": "code",
   "execution_count": null,
   "id": "7c360282",
   "metadata": {},
   "outputs": [],
   "source": [
    "for b in bias_i:\n",
    "    print(r_i(b))\n",
    "    break;"
   ]
  },
  {
   "cell_type": "code",
   "execution_count": null,
   "id": "cd50733b",
   "metadata": {},
   "outputs": [],
   "source": [
    "g"
   ]
  },
  {
   "cell_type": "code",
   "execution_count": null,
   "id": "f78e3f08",
   "metadata": {},
   "outputs": [],
   "source": [
    "vs_i"
   ]
  },
  {
   "cell_type": "code",
   "execution_count": null,
   "id": "9cf2c4ea",
   "metadata": {},
   "outputs": [],
   "source": [
    "for bia in bia_i_list:\n",
    "    for b in bia:\n",
    "        print(r_i(b))"
   ]
  },
  {
   "cell_type": "code",
   "execution_count": null,
   "id": "f25f78aa",
   "metadata": {},
   "outputs": [],
   "source": [
    "for bia in bia_f_list:\n",
    "    for b in bia:\n",
    "        print(r_i(b))"
   ]
  },
  {
   "cell_type": "code",
   "execution_count": null,
   "id": "71c4835e",
   "metadata": {},
   "outputs": [],
   "source": [
    "for kernel in kernel_i_list:\n",
    "    for l in kernel:\n",
    "        for m in l:\n",
    "            print(r_i(m))    "
   ]
  },
  {
   "cell_type": "code",
   "execution_count": null,
   "id": "27861866",
   "metadata": {},
   "outputs": [],
   "source": [
    "for kernel in kernel_f_list:\n",
    "    for l in kernel:\n",
    "        for m in l:\n",
    "            print(r_i(m))      "
   ]
  }
 ],
 "metadata": {
  "kernelspec": {
   "display_name": "Python 3 (ipykernel)",
   "language": "python",
   "name": "python3"
  },
  "language_info": {
   "codemirror_mode": {
    "name": "ipython",
    "version": 3
   },
   "file_extension": ".py",
   "mimetype": "text/x-python",
   "name": "python",
   "nbconvert_exporter": "python",
   "pygments_lexer": "ipython3",
   "version": "3.10.12"
  }
 },
 "nbformat": 4,
 "nbformat_minor": 5
}
