{
 "cells": [
  {
   "cell_type": "code",
   "execution_count": 4,
   "id": "7656104c",
   "metadata": {},
   "outputs": [],
   "source": [
    "import os\n",
    "os.environ[\"JAX_PLATFORM_NAME\"] = \"cpu\"\n",
    "import netket as nk\n",
    "import numpy as np\n",
    "import matplotlib.pyplot as plt\n",
    "import netket.nn as nknn\n",
    "import flax.linen as nn\n",
    "import jax.numpy as jnp\n",
    "import jax"
   ]
  },
  {
   "cell_type": "code",
   "execution_count": 2,
   "id": "425f2d43",
   "metadata": {},
   "outputs": [],
   "source": [
    "J = [1, 0.2];L = 8;edge_colors = []\n",
    "for i in range(L):\n",
    "    edge_colors.append([i, (i+1)%L, 1])\n",
    "    edge_colors.append([i, (i+2)%L, 2])\n",
    "g = nk.graph.Graph(edges=edge_colors)\n",
    "sigmaz = [[1, 0], [0, -1]];  mszsz = (np.kron(sigmaz, sigmaz))\n",
    "exchange = np.asarray([[0, 0, 0, 0], [0, 0, 2, 0], [0, 2, 0, 0], [0, 0, 0, 0]])\n",
    "bond_operator = [\n",
    "        (J[0] * mszsz).tolist(),    (J[1] * mszsz).tolist(),\n",
    "        (-J[0] * exchange).tolist(),(J[1] * exchange).tolist(),\n",
    "        ]\n",
    "bond_color = [1, 2, 1, 2];   sigmaz = [[1, 0], [0, -1]]\n",
    "mszsz = (np.kron(sigmaz, sigmaz));\n",
    "exchange = np.asarray([[0, 0, 0, 0], [0, 0, 2, 0], [0, 2, 0, 0], [0, 0, 0, 0]])\n",
    "bond_operator = [\n",
    "        (J[0] * mszsz).tolist(),    (J[1] * mszsz).tolist(),\n",
    "        (-J[0] * exchange).tolist(),(J[1] * exchange).tolist(),\n",
    "    ]\n",
    "\n",
    "bond_color = [1, 2, 1, 2]\n",
    "hi = nk.hilbert.Spin(s=0.5, total_sz=0.0, N=g.n_nodes)\n",
    "op = nk.operator.GraphOperator(hi, graph=g, bond_ops=bond_operator, bond_ops_colors=bond_color)"
   ]
  },
  {
   "cell_type": "code",
   "execution_count": 5,
   "id": "a884bfcd",
   "metadata": {},
   "outputs": [
    {
     "data": {
      "text/plain": [
       "{'params': {'Dense': {'kernel': Array([[ 8.23246599e-03, -1.62925398e-03, -2.40223347e-03,\n",
       "            2.78062964e-05,  1.30084155e-03,  2.83382276e-02,\n",
       "           -2.25602852e-02, -2.15331842e-02,  3.44524503e-03,\n",
       "            5.50811133e-03,  1.20296895e-02,  4.54389130e-04,\n",
       "           -5.77788075e-03,  8.21401924e-03,  1.69800268e-02,\n",
       "           -7.77806707e-04],\n",
       "          [ 1.37063644e-02,  4.87131036e-03,  1.14309609e-03,\n",
       "            3.08117845e-04,  9.29583768e-03, -1.50667115e-03,\n",
       "           -3.47820230e-03, -9.00833316e-03, -1.02926909e-02,\n",
       "           -1.28183274e-02, -1.12155781e-02,  1.02980578e-04,\n",
       "           -1.58269342e-02, -1.49403211e-02,  5.70996898e-03,\n",
       "           -4.56203223e-03],\n",
       "          [-4.97841698e-03,  1.92195686e-02,  8.99691817e-03,\n",
       "           -1.78639157e-02, -1.70784178e-02, -1.05293558e-03,\n",
       "           -7.15695959e-03, -1.77260158e-02, -5.08216048e-04,\n",
       "            1.82142206e-02, -1.80235861e-03,  3.81051873e-03,\n",
       "           -1.95666178e-04,  1.26472993e-02,  5.05822609e-03,\n",
       "           -8.28487041e-03],\n",
       "          [-9.08533169e-03, -1.32556900e-02, -6.27969488e-03,\n",
       "            2.63176196e-03, -1.72951735e-02, -8.98649511e-03,\n",
       "            4.02890585e-03,  1.58292990e-02,  6.43253606e-03,\n",
       "            1.56982146e-02, -1.24008727e-03, -5.77682625e-03,\n",
       "           -1.53918172e-02, -7.10209062e-03,  1.59039323e-02,\n",
       "            2.54639268e-02],\n",
       "          [ 5.11349670e-03, -3.99395908e-03, -1.11476096e-03,\n",
       "            4.83688458e-03, -1.12389345e-02,  2.07845333e-02,\n",
       "           -3.50988439e-03,  8.86537633e-03,  1.61685114e-02,\n",
       "            7.06221615e-03, -8.28652132e-03, -1.08749860e-02,\n",
       "           -4.99215689e-03,  6.71403766e-03,  1.53263015e-02,\n",
       "            3.56964756e-03],\n",
       "          [ 1.16800442e-02,  1.61322030e-02,  2.12669289e-02,\n",
       "           -9.04625392e-03,  3.46763596e-03,  4.87336852e-03,\n",
       "            3.43167290e-03,  9.49250429e-03,  3.20308483e-03,\n",
       "            7.37139350e-03, -4.37479781e-04,  1.36034127e-02,\n",
       "            1.59162116e-02, -9.39394289e-03,  1.17801318e-02,\n",
       "            1.20126785e-02],\n",
       "          [ 1.20149386e-02, -1.47410820e-02,  4.42837237e-03,\n",
       "           -6.59944654e-03,  1.22669978e-02, -6.79947071e-03,\n",
       "            1.50379239e-03,  7.92333636e-03,  8.63042716e-03,\n",
       "            7.75386750e-04, -1.78599200e-02, -2.56339529e-02,\n",
       "            4.97789556e-03, -4.99281446e-03,  2.04824844e-02,\n",
       "            5.12699811e-03],\n",
       "          [ 8.45252835e-03, -1.32959192e-02, -7.66520279e-03,\n",
       "           -2.77088199e-03,  4.26264705e-03,  9.03329937e-03,\n",
       "           -3.18187009e-03,  1.30449340e-02, -4.73063058e-03,\n",
       "            2.04365105e-03,  1.34941717e-02, -9.87345425e-03,\n",
       "            1.76757557e-02,  1.62887540e-02, -6.53350264e-03,\n",
       "           -1.92058756e-02]], dtype=float64),\n",
       "   'bias': Array([ 0.00496628, -0.01334205,  0.00415238,  0.0069635 , -0.01525355,\n",
       "           0.00920746,  0.00612784,  0.01524834, -0.00886719, -0.00451765,\n",
       "           0.00794128,  0.00361695,  0.00852653,  0.00503712, -0.00965909,\n",
       "           0.00301765], dtype=float64)},\n",
       "  'visible_bias': Array([-0.00725353,  0.00561171,  0.00547853, -0.00220267, -0.00966548,\n",
       "         -0.01782458,  0.00872145, -0.00487117], dtype=float64)}}"
      ]
     },
     "execution_count": 5,
     "metadata": {},
     "output_type": "execute_result"
    }
   ],
   "source": [
    "alpha = 2\n",
    "model = nk.models.RBM(alpha=alpha)\n",
    "rng_key = jax.random.PRNGKey(1234)\n",
    "initial_state = jnp.ones((1, L))\n",
    "model.init(rng_key, initial_state)  \n"
   ]
  },
  {
   "cell_type": "code",
   "execution_count": 6,
   "id": "4cf2bbb7",
   "metadata": {},
   "outputs": [],
   "source": [
    "it = 100"
   ]
  },
  {
   "cell_type": "code",
   "execution_count": 7,
   "id": "6b8c00d8",
   "metadata": {},
   "outputs": [
    {
     "name": "stderr",
     "output_type": "stream",
     "text": [
      "100%|█| 100/100 [00:02<00:00, 42.77it/s, Energy=-13.40369 ± 0.00091 [σ²=0.00083,"
     ]
    },
    {
     "name": "stdout",
     "output_type": "stream",
     "text": [
      "------------  -------------\n"
     ]
    },
    {
     "name": "stderr",
     "output_type": "stream",
     "text": [
      "\n"
     ]
    }
   ],
   "source": [
    "sa = nk.sampler.MetropolisExchange(hilbert=hi, graph=g, d_max = 2)\n",
    "vs = nk.vqs.MCState(sa, model, n_samples=1008)\n",
    "vs_i = vs;\n",
    "opt = nk.optimizer.Sgd(learning_rate=0.01)\n",
    "sr = nk.optimizer.SR(diag_shift=0.01)\n",
    "gs = nk.VMC(hamiltonian=op, optimizer=opt, variational_state=vs, preconditioner=sr)\n",
    "# We need to specify the local operators as a matrix acting on a local Hilbert space \n",
    "sf = []\n",
    "sites = []\n",
    "structure_factor = nk.operator.LocalOperator(hi, dtype=complex)\n",
    "for i in range(0, L):\n",
    "    for j in range(0, L):\n",
    "        structure_factor += (nk.operator.spin.sigmaz(hi, i)*nk.operator.spin.sigmaz(hi, j))*((-1)**(i-j))/L\n",
    "\n",
    "gs.run(out='test', n_iter=it, obs={'Structure Factor': structure_factor}) \n",
    "print(\"------------  -------------\")\n",
    "vs_f = vs"
   ]
  },
  {
   "cell_type": "code",
   "execution_count": null,
   "id": "94c7f0a6",
   "metadata": {},
   "outputs": [],
   "source": [
    "rng_key = jax.random.PRNGKey(1234)\n",
    "initial_state = jnp.ones((1, L))\n",
    "model.init(rng_key, initial_state)  \n"
   ]
  },
  {
   "cell_type": "code",
   "execution_count": null,
   "id": "bd887a94",
   "metadata": {},
   "outputs": [],
   "source": [
    "gs.state.parameters"
   ]
  },
  {
   "cell_type": "code",
   "execution_count": null,
   "id": "b7e40a4d",
   "metadata": {},
   "outputs": [],
   "source": [
    "vs_i.parameters"
   ]
  },
  {
   "cell_type": "code",
   "execution_count": null,
   "id": "50dfda3e",
   "metadata": {},
   "outputs": [],
   "source": [
    "vs.parameters"
   ]
  },
  {
   "cell_type": "code",
   "execution_count": null,
   "id": "ca50e159",
   "metadata": {},
   "outputs": [],
   "source": []
  }
 ],
 "metadata": {
  "kernelspec": {
   "display_name": "Python 3 (ipykernel)",
   "language": "python",
   "name": "python3"
  },
  "language_info": {
   "codemirror_mode": {
    "name": "ipython",
    "version": 3
   },
   "file_extension": ".py",
   "mimetype": "text/x-python",
   "name": "python",
   "nbconvert_exporter": "python",
   "pygments_lexer": "ipython3",
   "version": "3.10.12"
  }
 },
 "nbformat": 4,
 "nbformat_minor": 5
}
