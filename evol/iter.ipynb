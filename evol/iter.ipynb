{
 "cells": [
  {
   "cell_type": "code",
   "execution_count": 1,
   "id": "789b5c93",
   "metadata": {},
   "outputs": [],
   "source": [
    "import os\n",
    "os.environ[\"JAX_PLATFORM_NAME\"] = \"cpu\"\n",
    "import netket as nk\n",
    "import numpy as np\n",
    "import matplotlib.pyplot as plt"
   ]
  },
  {
   "cell_type": "code",
   "execution_count": 2,
   "id": "f5b582f1",
   "metadata": {},
   "outputs": [],
   "source": [
    "import netket.nn as nknn\n",
    "import flax.linen as nn\n",
    "import jax.numpy as jnp\n",
    "\n",
    "class FFNN(nn.Module):\n",
    "    @nn.compact\n",
    "    def __call__(self, x):\n",
    "        x = nn.Dense(features=2*x.shape[-1], \n",
    "                     use_bias=True, \n",
    "                     param_dtype=np.complex128, \n",
    "                     kernel_init=nn.initializers.normal(stddev=0.01), \n",
    "                     bias_init=nn.initializers.normal(stddev=0.01)\n",
    "                    )(x)\n",
    "        x = nknn.log_cosh(x)\n",
    "        x = jnp.sum(x, axis=-1)\n",
    "        return x"
   ]
  },
  {
   "cell_type": "code",
   "execution_count": 3,
   "id": "0031cfe3",
   "metadata": {},
   "outputs": [],
   "source": [
    "#Couplings J1 and J2\n",
    "J = [1, 0.2]\n",
    "L = 8\n",
    "# Define custom graph\n",
    "edge_colors = []\n",
    "for i in range(L):\n",
    "    edge_colors.append([i, (i+1)%L, 1])\n",
    "    edge_colors.append([i, (i+2)%L, 2])\n",
    "# Define the netket graph object\n",
    "g = nk.graph.Graph(edges=edge_colors)\n",
    "#Sigma^z*Sigma^z interactions\n",
    "sigmaz = [[1, 0], [0, -1]]\n",
    "mszsz = (np.kron(sigmaz, sigmaz))\n",
    "#Exchange interactions\n",
    "exchange = np.asarray([[0, 0, 0, 0], [0, 0, 2, 0], [0, 2, 0, 0], [0, 0, 0, 0]])\n",
    "bond_operator = [\n",
    "    (J[0] * mszsz).tolist(),\n",
    "    (J[1] * mszsz).tolist(),\n",
    "    (-J[0] * exchange).tolist(),  \n",
    "    (J[1] * exchange).tolist(),\n",
    "]\n",
    "bond_color = [1, 2, 1, 2]\n",
    "#Sigma^z*Sigma^z interactions\n",
    "sigmaz = [[1, 0], [0, -1]]\n",
    "mszsz = (np.kron(sigmaz, sigmaz))\n",
    "#Exchange interactions\n",
    "exchange = np.asarray([[0, 0, 0, 0], [0, 0, 2, 0], [0, 2, 0, 0], [0, 0, 0, 0]])\n",
    "bond_operator = [\n",
    "    (J[0] * mszsz).tolist(),\n",
    "    (J[1] * mszsz).tolist(),\n",
    "    (-J[0] * exchange).tolist(),  \n",
    "    (J[1] * exchange).tolist(),\n",
    "]\n",
    "bond_color = [1, 2, 1, 2]\n",
    "\n",
    "# Spin based Hilbert Space\n",
    "hi = nk.hilbert.Spin(s=0.5, total_sz=0.0, N=g.n_nodes)\n",
    "# Custom Hamiltonian operator\n",
    "op = nk.operator.GraphOperator(hi, graph=g, bond_ops=bond_operator, bond_ops_colors=bond_color)"
   ]
  },
  {
   "cell_type": "code",
   "execution_count": 5,
   "id": "967ce93f",
   "metadata": {},
   "outputs": [],
   "source": [
    "model = FFNN()"
   ]
  },
  {
   "cell_type": "code",
   "execution_count": 6,
   "id": "658bca02",
   "metadata": {},
   "outputs": [],
   "source": [
    "# We shall use an exchange Sampler which preserves the global magnetization (as this is a conserved quantity in the model)\n",
    "sa = nk.sampler.MetropolisExchange(hilbert=hi, graph=g, d_max = 2)\n",
    "# Construct the variational state\n",
    "vs = nk.vqs.MCState(sa, model, n_samples=1008)"
   ]
  },
  {
   "cell_type": "code",
   "execution_count": 53,
   "id": "9def13fb",
   "metadata": {},
   "outputs": [],
   "source": [
    "def bias(vs):\n",
    "    head = list(vs.parameters.keys())[0]\n",
    "    body = list(vs.parameters[head].keys())\n",
    "    bias = vs.parameters[head][body[0]]\n",
    "    return list(bias)"
   ]
  },
  {
   "cell_type": "code",
   "execution_count": 81,
   "id": "6d554b85",
   "metadata": {},
   "outputs": [],
   "source": [
    "def real(c):\n",
    "    return float(np.real(c))  \n",
    "def img(c):\n",
    "    return float(np.imag(c))    \n",
    "def r_i(c):\n",
    "    return real(c),img(c)    "
   ]
  },
  {
   "cell_type": "code",
   "execution_count": 75,
   "id": "90471de4",
   "metadata": {},
   "outputs": [
    {
     "name": "stdout",
     "output_type": "stream",
     "text": [
      "(0.006194963183593213-0.009955006159631892j)\n"
     ]
    }
   ],
   "source": [
    "print(bias(vs)[1])\n",
    "c = bias(vs)[1]\n",
    "d = bias(vs)[1]"
   ]
  },
  {
   "cell_type": "code",
   "execution_count": 82,
   "id": "347f873b",
   "metadata": {},
   "outputs": [
    {
     "name": "stdout",
     "output_type": "stream",
     "text": [
      "(0.006194963183593213, -0.009955006159631892)\n"
     ]
    }
   ],
   "source": [
    "print(r_i(c))"
   ]
  },
  {
   "cell_type": "code",
   "execution_count": 70,
   "id": "b83c7eeb",
   "metadata": {},
   "outputs": [
    {
     "data": {
      "text/plain": [
       "0.006194963183593213"
      ]
     },
     "execution_count": 70,
     "metadata": {},
     "output_type": "execute_result"
    }
   ],
   "source": [
    "real(c)"
   ]
  },
  {
   "cell_type": "code",
   "execution_count": 76,
   "id": "97d435d6",
   "metadata": {},
   "outputs": [
    {
     "data": {
      "text/plain": [
       "-0.009955006159631892"
      ]
     },
     "execution_count": 76,
     "metadata": {},
     "output_type": "execute_result"
    }
   ],
   "source": [
    "img(d)"
   ]
  },
  {
   "cell_type": "code",
   "execution_count": 7,
   "id": "c28b965b",
   "metadata": {},
   "outputs": [
    {
     "data": {
      "text/plain": [
       "dict_keys(['Dense_0'])"
      ]
     },
     "execution_count": 7,
     "metadata": {},
     "output_type": "execute_result"
    }
   ],
   "source": [
    "vs.parameters.keys()"
   ]
  },
  {
   "cell_type": "code",
   "execution_count": 16,
   "id": "efa26da4",
   "metadata": {},
   "outputs": [
    {
     "name": "stdout",
     "output_type": "stream",
     "text": [
      "n: 1 ; list: ['Dense_0']\n"
     ]
    }
   ],
   "source": [
    "print('n:',len(list(vs.parameters.keys())),';','list:',(list(vs.parameters.keys())))"
   ]
  },
  {
   "cell_type": "code",
   "execution_count": 20,
   "id": "64ee4f26",
   "metadata": {},
   "outputs": [],
   "source": [
    "head = list(vs.parameters.keys())[0]"
   ]
  },
  {
   "cell_type": "code",
   "execution_count": 21,
   "id": "cb7d0d5e",
   "metadata": {},
   "outputs": [
    {
     "data": {
      "text/plain": [
       "dict_keys(['bias', 'kernel'])"
      ]
     },
     "execution_count": 21,
     "metadata": {},
     "output_type": "execute_result"
    }
   ],
   "source": [
    "vs.parameters[head].keys()"
   ]
  },
  {
   "cell_type": "code",
   "execution_count": 26,
   "id": "f0815ca7",
   "metadata": {},
   "outputs": [],
   "source": [
    "body = list(vs.parameters[head].keys())"
   ]
  },
  {
   "cell_type": "code",
   "execution_count": 27,
   "id": "c1b59762",
   "metadata": {},
   "outputs": [
    {
     "data": {
      "text/plain": [
       "['bias', 'kernel']"
      ]
     },
     "execution_count": 27,
     "metadata": {},
     "output_type": "execute_result"
    }
   ],
   "source": [
    "body"
   ]
  },
  {
   "cell_type": "code",
   "execution_count": 28,
   "id": "f1d6a442",
   "metadata": {},
   "outputs": [
    {
     "name": "stdout",
     "output_type": "stream",
     "text": [
      "bias\n",
      "kernel\n"
     ]
    }
   ],
   "source": [
    "for l in body:\n",
    "    print(l)"
   ]
  },
  {
   "cell_type": "code",
   "execution_count": null,
   "id": "7678201a",
   "metadata": {},
   "outputs": [],
   "source": []
  },
  {
   "cell_type": "code",
   "execution_count": 34,
   "id": "7b6bce74",
   "metadata": {},
   "outputs": [
    {
     "data": {
      "text/plain": [
       "('bias',\n",
       " Array([ 0.00328815-0.00179911j,  0.00619496-0.00995501j,\n",
       "        -0.00693332+0.01156536j, -0.00104578-0.00348196j,\n",
       "        -0.00694921-0.00155494j, -0.01096324+0.00516608j,\n",
       "        -0.00709209-0.00829739j, -0.0009933 -0.00349228j,\n",
       "        -0.0008565 +0.01301766j, -0.00733595-0.01038364j,\n",
       "         0.0003041 -0.00179853j,  0.0011776 -0.00491084j,\n",
       "        -0.00203536+0.01145279j, -0.00695663-0.00143488j,\n",
       "        -0.00823136-0.0004503j ,  0.00394141-0.00866509j],      dtype=complex128))"
      ]
     },
     "execution_count": 34,
     "metadata": {},
     "output_type": "execute_result"
    }
   ],
   "source": [
    "body[0], vs.parameters[head][body[0]]"
   ]
  },
  {
   "cell_type": "code",
   "execution_count": 43,
   "id": "fe2c6927",
   "metadata": {},
   "outputs": [
    {
     "data": {
      "text/plain": [
       "16"
      ]
     },
     "execution_count": 43,
     "metadata": {},
     "output_type": "execute_result"
    }
   ],
   "source": [
    "len(list(vs.parameters[head][body[0]]))"
   ]
  },
  {
   "cell_type": "code",
   "execution_count": 46,
   "id": "992f65f4",
   "metadata": {},
   "outputs": [
    {
     "data": {
      "text/plain": [
       "Array(0.00328815-0.00179911j, dtype=complex128)"
      ]
     },
     "execution_count": 46,
     "metadata": {},
     "output_type": "execute_result"
    }
   ],
   "source": [
    "list(vs.parameters[head][body[0]])[0]                       "
   ]
  },
  {
   "cell_type": "code",
   "execution_count": 48,
   "id": "4f3cbc31",
   "metadata": {},
   "outputs": [
    {
     "data": {
      "text/plain": [
       "Array(0.00328815, dtype=float64)"
      ]
     },
     "execution_count": 48,
     "metadata": {},
     "output_type": "execute_result"
    }
   ],
   "source": [
    "np.real(list(vs.parameters[head][body[0]])[0])"
   ]
  },
  {
   "cell_type": "code",
   "execution_count": 49,
   "id": "64f5c9fc",
   "metadata": {},
   "outputs": [
    {
     "data": {
      "text/plain": [
       "0.0032881458733503284"
      ]
     },
     "execution_count": 49,
     "metadata": {},
     "output_type": "execute_result"
    }
   ],
   "source": [
    "float(np.real(list(vs.parameters[head][body[0]])[0]))"
   ]
  },
  {
   "cell_type": "code",
   "execution_count": 50,
   "id": "2285088e",
   "metadata": {},
   "outputs": [
    {
     "data": {
      "text/plain": [
       "-0.001799107774068141"
      ]
     },
     "execution_count": 50,
     "metadata": {},
     "output_type": "execute_result"
    }
   ],
   "source": [
    "float(np.imag(list(vs.parameters[head][body[0]])[0]))"
   ]
  },
  {
   "cell_type": "code",
   "execution_count": 35,
   "id": "c3884534",
   "metadata": {},
   "outputs": [
    {
     "data": {
      "text/plain": [
       "('kernel',\n",
       " Array([[-1.22312651e-03+6.40885627e-03j, -2.36817418e-03-6.63413610e-03j,\n",
       "         -2.52069953e-03+5.60791472e-03j, -7.36043016e-03-5.06539920e-03j,\n",
       "         -8.91450170e-04+4.20144580e-03j, -1.93334328e-03+7.62155089e-04j,\n",
       "         -9.44795450e-04-1.00851804e-02j, -1.25521314e-03-5.22405766e-03j,\n",
       "          3.18137380e-03-1.24095499e-02j, -1.01066333e-02+9.64963355e-03j,\n",
       "         -5.52574583e-03+8.78693693e-05j,  2.64726795e-03+1.50777527e-02j,\n",
       "         -2.69146599e-03-2.32198276e-03j,  5.10107247e-03-1.52501419e-03j,\n",
       "         -3.72063804e-03+5.02269010e-04j,  5.34610281e-03-1.91641763e-03j],\n",
       "        [-1.00775701e-03+2.44660648e-04j,  1.16975892e-02-4.13453459e-03j,\n",
       "         -1.96104595e-03+5.35713400e-04j,  8.27713098e-03-1.31668416e-02j,\n",
       "          1.66392822e-03+1.12595901e-03j,  2.43026953e-03+9.34693749e-04j,\n",
       "          4.91904362e-03-7.99409063e-03j,  1.94016898e-03-2.59468500e-03j,\n",
       "         -1.44375184e-02-7.73208782e-03j,  1.07481238e-02-7.10312167e-04j,\n",
       "          2.40177148e-03+5.55147368e-03j, -4.04944269e-03+6.74689499e-03j,\n",
       "          7.03778434e-03-1.73023446e-02j, -1.61979928e-02-6.18928012e-04j,\n",
       "         -9.29427050e-04+1.22870347e-03j, -9.96733982e-03-2.07903189e-03j],\n",
       "        [-1.93218060e-03+4.15381235e-03j, -1.08295167e-02+1.51030207e-02j,\n",
       "         -1.40390274e-03+3.85617317e-03j, -6.44812545e-03-1.10664244e-02j,\n",
       "          8.83230338e-03-6.49142615e-03j,  3.61487323e-03-1.33911244e-02j,\n",
       "         -1.11753054e-02+1.14056835e-04j, -7.31430046e-03+2.23004578e-03j,\n",
       "          7.48305105e-03+5.61035725e-03j,  1.09763085e-02-9.35600037e-04j,\n",
       "         -1.15239496e-02+1.26352845e-03j,  1.23437468e-02+3.29933307e-03j,\n",
       "         -5.57621644e-03+5.64391137e-03j, -2.51556880e-03-6.06242696e-03j,\n",
       "          8.28751936e-03+2.69629609e-03j,  4.11050992e-03+6.05361572e-03j],\n",
       "        [ 1.28057451e-02-2.02672679e-03j,  6.02245592e-05-6.19155198e-03j,\n",
       "         -6.57679166e-03-1.61951047e-03j,  4.14315799e-03+5.98863508e-03j,\n",
       "          7.63163987e-04-6.68729328e-03j,  5.90257840e-03+6.58014180e-03j,\n",
       "          1.13567409e-03+5.32620881e-03j, -3.41231592e-04-3.88643113e-03j,\n",
       "          4.41310486e-03+5.06876713e-03j,  4.88648329e-03+3.27010149e-03j,\n",
       "         -9.67057794e-03-2.38461373e-03j,  1.83538927e-04-1.38273444e-02j,\n",
       "          1.76972683e-03-3.01706225e-03j,  1.73875046e-03+5.75935960e-03j,\n",
       "         -1.74651316e-04+4.27399086e-03j, -5.62956247e-03-4.58569113e-03j],\n",
       "        [ 6.74514859e-03-6.32369543e-03j, -6.40383645e-03-8.92489130e-03j,\n",
       "          1.39156988e-02-7.43862328e-03j, -9.30789302e-03+8.92583706e-03j,\n",
       "         -3.93322886e-03+2.68608672e-03j, -3.92374785e-03-9.28269890e-04j,\n",
       "          7.89779082e-04-1.28614937e-02j,  7.76979388e-03+5.04448456e-03j,\n",
       "         -3.38231982e-03-6.80466246e-03j, -1.43571172e-03-6.73033274e-03j,\n",
       "         -9.05979420e-03+8.72417128e-03j,  3.16833091e-03+5.65726516e-03j,\n",
       "         -5.75284688e-03-2.42378038e-03j,  8.16795749e-03+8.93524305e-03j,\n",
       "         -1.06035457e-03+1.90935224e-03j, -5.95020149e-03+8.29117884e-03j],\n",
       "        [ 5.05091755e-03+3.97025747e-03j,  9.58667588e-03-1.40032648e-03j,\n",
       "         -1.67768230e-02-3.44898464e-03j,  2.46605597e-03-1.13409111e-02j,\n",
       "         -9.41574926e-03+4.02690626e-03j, -6.50377881e-03+3.54372915e-03j,\n",
       "         -5.61637868e-04-1.09537669e-02j, -7.47650700e-03-2.08350612e-03j,\n",
       "         -9.48433651e-03-3.24075817e-04j, -4.50057307e-03-6.21813393e-03j,\n",
       "          2.15150188e-03-7.17901049e-03j, -6.36662646e-04+1.54987077e-03j,\n",
       "          1.40377249e-02-9.70102699e-04j, -7.83150357e-03-1.02369348e-02j,\n",
       "          4.53236649e-03-5.72701494e-03j, -1.62082602e-03-6.60466086e-03j],\n",
       "        [ 1.88037908e-03+4.87788298e-03j, -3.63024848e-03+6.02615833e-04j,\n",
       "         -4.25931650e-03+9.64836536e-03j,  6.84392885e-03-8.12271753e-03j,\n",
       "          6.73246102e-03-7.29519060e-03j, -1.46866964e-04+8.80882003e-03j,\n",
       "         -1.06346257e-04-2.23033065e-03j,  7.75838728e-03+6.27765420e-03j,\n",
       "         -2.24626178e-04+2.70376167e-03j,  3.06434281e-03-2.05948341e-03j,\n",
       "          2.48649851e-03-4.04078285e-03j, -7.04117281e-03-1.64395668e-02j,\n",
       "          6.09473421e-03-3.62162061e-04j, -3.63248284e-03+9.16459703e-05j,\n",
       "         -3.74072844e-03-2.41360964e-03j,  9.52160349e-03-7.47656563e-04j],\n",
       "        [ 1.43422207e-02+1.02127469e-02j, -3.42242201e-03+2.11076125e-03j,\n",
       "         -9.11106209e-03-3.53179631e-03j, -6.19342948e-03-4.80566661e-03j,\n",
       "         -2.54616958e-02-6.08233281e-04j,  4.91551914e-03-3.44336439e-03j,\n",
       "          4.10852278e-04+1.39410673e-03j,  8.07557217e-03+3.22885944e-03j,\n",
       "         -7.26493292e-03-5.38685124e-03j, -1.28159587e-02-2.41493272e-03j,\n",
       "          9.00972502e-03+3.24327813e-03j, -7.92885658e-03+5.47633999e-04j,\n",
       "          2.29136151e-02+5.57167860e-03j,  7.34781956e-03+4.26126178e-03j,\n",
       "         -4.66125935e-03-7.76587361e-03j,  3.46504155e-03+4.78185246e-03j]],      dtype=complex128))"
      ]
     },
     "execution_count": 35,
     "metadata": {},
     "output_type": "execute_result"
    }
   ],
   "source": [
    "body[1], vs.parameters[head][body[1]]"
   ]
  },
  {
   "cell_type": "code",
   "execution_count": 36,
   "id": "7b491a2b",
   "metadata": {},
   "outputs": [
    {
     "data": {
      "text/plain": [
       "(16,)"
      ]
     },
     "execution_count": 36,
     "metadata": {},
     "output_type": "execute_result"
    }
   ],
   "source": [
    "np.shape(vs.parameters[head][body[0]])"
   ]
  },
  {
   "cell_type": "code",
   "execution_count": 37,
   "id": "6e3a80c1",
   "metadata": {},
   "outputs": [
    {
     "data": {
      "text/plain": [
       "(8, 16)"
      ]
     },
     "execution_count": 37,
     "metadata": {},
     "output_type": "execute_result"
    }
   ],
   "source": [
    "np.shape(vs.parameters[head][body[1]])"
   ]
  },
  {
   "cell_type": "code",
   "execution_count": null,
   "id": "38df5be2",
   "metadata": {},
   "outputs": [],
   "source": []
  }
 ],
 "metadata": {
  "kernelspec": {
   "display_name": "Python 3 (ipykernel)",
   "language": "python",
   "name": "python3"
  },
  "language_info": {
   "codemirror_mode": {
    "name": "ipython",
    "version": 3
   },
   "file_extension": ".py",
   "mimetype": "text/x-python",
   "name": "python",
   "nbconvert_exporter": "python",
   "pygments_lexer": "ipython3",
   "version": "3.10.12"
  }
 },
 "nbformat": 4,
 "nbformat_minor": 5
}
