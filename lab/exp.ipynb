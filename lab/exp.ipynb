{
 "cells": [
  {
   "cell_type": "code",
   "execution_count": 1,
   "id": "8b756c0d",
   "metadata": {},
   "outputs": [],
   "source": [
    "import jax\n",
    "import jax.numpy as jnp\n",
    "import numpy as np\n",
    "import netket as nk\n",
    "import flax.linen as nn"
   ]
  },
  {
   "cell_type": "code",
   "execution_count": 6,
   "id": "36b1ef83",
   "metadata": {},
   "outputs": [],
   "source": [
    "J = [1, 0.2]; L = 8; edge_colors = []\n",
    "for i in range(L):\n",
    "    edge_colors.append([i, (i+1)%L, 1])\n",
    "    edge_colors.append([i, (i+2)%L, 2])\n",
    "g = nk.graph.Graph(edges=edge_colors)\n",
    "sigmaz = [[1, 0], [0, -1]];  mszsz = (np.kron(sigmaz, sigmaz))\n",
    "exchange = np.asarray([[0, 0, 0, 0], [0, 0, 2, 0], [0, 2, 0, 0], [0, 0, 0, 0]])\n",
    "bond_operator = [\n",
    "        (J[0] * mszsz).tolist(),    (J[1] * mszsz).tolist(),\n",
    "        (-J[0] * exchange).tolist(),(J[1] * exchange).tolist(),\n",
    "        ]\n",
    "bond_color = [1, 2, 1, 2];   sigmaz = [[1, 0], [0, -1]]\n",
    "mszsz = (np.kron(sigmaz, sigmaz));\n",
    "exchange = np.asarray([[0, 0, 0, 0], [0, 0, 2, 0], [0, 2, 0, 0], [0, 0, 0, 0]])\n",
    "bond_operator = [\n",
    "        (J[0] * mszsz).tolist(),    (J[1] * mszsz).tolist(),\n",
    "        (-J[0] * exchange).tolist(),(J[1] * exchange).tolist(),\n",
    "    ]\n",
    "\n",
    "bond_color = [1, 2, 1, 2]"
   ]
  },
  {
   "cell_type": "code",
   "execution_count": 7,
   "id": "8987a4b4",
   "metadata": {},
   "outputs": [],
   "source": [
    "hi = nk.hilbert.Spin(s=0.5, total_sz=0.0, N=g.n_nodes)\n",
    "op = nk.operator.GraphOperator(hi, graph=g, bond_ops=bond_operator, bond_ops_colors=bond_color)"
   ]
  },
  {
   "cell_type": "code",
   "execution_count": 8,
   "id": "67ba2fc8",
   "metadata": {},
   "outputs": [],
   "source": [
    "# Definir o modelo RBM para representar o estado do sistema\n",
    "alpha = 2\n",
    "ma = nk.models.RBM(alpha=alpha)"
   ]
  },
  {
   "cell_type": "code",
   "execution_count": 13,
   "id": "87e565d1",
   "metadata": {},
   "outputs": [
    {
     "ename": "AttributeError",
     "evalue": "\"RBM\" object has no attribute \"hilbert\". If \"hilbert\" is defined in '.setup()', remember these fields are only accessible from inside 'init' or 'apply'.",
     "output_type": "error",
     "traceback": [
      "\u001b[0;31m---------------------------------------------------------------------------\u001b[0m",
      "\u001b[0;31mAttributeError\u001b[0m                            Traceback (most recent call last)",
      "Cell \u001b[0;32mIn[13], line 5\u001b[0m\n\u001b[1;32m      2\u001b[0m op \u001b[38;5;241m=\u001b[39m nk\u001b[38;5;241m.\u001b[39moptimizer\u001b[38;5;241m.\u001b[39mSgd(learning_rate\u001b[38;5;241m=\u001b[39m\u001b[38;5;241m0.01\u001b[39m)\n\u001b[1;32m      4\u001b[0m \u001b[38;5;66;03m# Configurar o VMC (Variational Monte Carlo) para treinamento\u001b[39;00m\n\u001b[0;32m----> 5\u001b[0m vmc \u001b[38;5;241m=\u001b[39m \u001b[43mnk\u001b[49m\u001b[38;5;241;43m.\u001b[39;49m\u001b[43mVMC\u001b[49m\u001b[43m(\u001b[49m\u001b[43mhamiltonian\u001b[49m\u001b[38;5;241;43m=\u001b[39;49m\u001b[43mhi\u001b[49m\u001b[43m,\u001b[49m\u001b[43m \u001b[49m\u001b[43moptimizer\u001b[49m\u001b[38;5;241;43m=\u001b[39;49m\u001b[43mop\u001b[49m\u001b[43m,\u001b[49m\u001b[43m \u001b[49m\u001b[43mvariational_state\u001b[49m\u001b[38;5;241;43m=\u001b[39;49m\u001b[43mma\u001b[49m\u001b[43m,\u001b[49m\u001b[43m \u001b[49m\u001b[43mn_samples\u001b[49m\u001b[38;5;241;43m=\u001b[39;49m\u001b[38;5;241;43m1000\u001b[39;49m\u001b[43m)\u001b[49m\n\u001b[1;32m      7\u001b[0m \u001b[38;5;66;03m# Configurar o GS (Ground State) para cálculo do estado fundamental\u001b[39;00m\n\u001b[1;32m      8\u001b[0m gs \u001b[38;5;241m=\u001b[39m nk\u001b[38;5;241m.\u001b[39mexact\u001b[38;5;241m.\u001b[39mGroundState(hamiltonian\u001b[38;5;241m=\u001b[39mhi)\n",
      "File \u001b[0;32m~/work/env/lib/python3.10/site-packages/netket/driver/vmc.py:65\u001b[0m, in \u001b[0;36mVMC.__init__\u001b[0;34m(self, hamiltonian, optimizer, variational_state, preconditioner, *args, **kwargs)\u001b[0m\n\u001b[1;32m     62\u001b[0m \u001b[38;5;28;01mif\u001b[39;00m variational_state \u001b[38;5;129;01mis\u001b[39;00m \u001b[38;5;28;01mNone\u001b[39;00m:\n\u001b[1;32m     63\u001b[0m     variational_state \u001b[38;5;241m=\u001b[39m MCState(\u001b[38;5;241m*\u001b[39margs, \u001b[38;5;241m*\u001b[39m\u001b[38;5;241m*\u001b[39mkwargs)\n\u001b[0;32m---> 65\u001b[0m \u001b[38;5;28;01mif\u001b[39;00m \u001b[43mvariational_state\u001b[49m\u001b[38;5;241;43m.\u001b[39;49m\u001b[43mhilbert\u001b[49m \u001b[38;5;241m!=\u001b[39m hamiltonian\u001b[38;5;241m.\u001b[39mhilbert:\n\u001b[1;32m     66\u001b[0m     \u001b[38;5;28;01mraise\u001b[39;00m \u001b[38;5;167;01mTypeError\u001b[39;00m(\n\u001b[1;32m     67\u001b[0m         dedent(\n\u001b[1;32m     68\u001b[0m             \u001b[38;5;124mf\u001b[39m\u001b[38;5;124m\"\"\"\u001b[39m\u001b[38;5;124mthe variational_state has hilbert space \u001b[39m\u001b[38;5;132;01m{\u001b[39;00mvariational_state\u001b[38;5;241m.\u001b[39mhilbert\u001b[38;5;132;01m}\u001b[39;00m\n\u001b[0;32m   (...)\u001b[0m\n\u001b[1;32m     73\u001b[0m         )\n\u001b[1;32m     74\u001b[0m     )\n\u001b[1;32m     76\u001b[0m \u001b[38;5;28msuper\u001b[39m()\u001b[38;5;241m.\u001b[39m\u001b[38;5;21m__init__\u001b[39m(variational_state, optimizer, minimized_quantity_name\u001b[38;5;241m=\u001b[39m\u001b[38;5;124m\"\u001b[39m\u001b[38;5;124mEnergy\u001b[39m\u001b[38;5;124m\"\u001b[39m)\n",
      "File \u001b[0;32m~/work/env/lib/python3.10/site-packages/flax/linen/module.py:1194\u001b[0m, in \u001b[0;36mModule.__getattr__\u001b[0;34m(self, name)\u001b[0m\n\u001b[1;32m   1189\u001b[0m \u001b[38;5;28;01mif\u001b[39;00m \u001b[38;5;28mself\u001b[39m\u001b[38;5;241m.\u001b[39mscope \u001b[38;5;129;01mis\u001b[39;00m \u001b[38;5;28;01mNone\u001b[39;00m:\n\u001b[1;32m   1190\u001b[0m   msg \u001b[38;5;241m+\u001b[39m\u001b[38;5;241m=\u001b[39m (\n\u001b[1;32m   1191\u001b[0m       \u001b[38;5;124mf\u001b[39m\u001b[38;5;124m'\u001b[39m\u001b[38;5;124m If \u001b[39m\u001b[38;5;124m\"\u001b[39m\u001b[38;5;132;01m{\u001b[39;00mname\u001b[38;5;132;01m}\u001b[39;00m\u001b[38;5;124m\"\u001b[39m\u001b[38;5;124m is defined in \u001b[39m\u001b[38;5;130;01m\\'\u001b[39;00m\u001b[38;5;124m.setup()\u001b[39m\u001b[38;5;130;01m\\'\u001b[39;00m\u001b[38;5;124m, remember these fields \u001b[39m\u001b[38;5;124m'\u001b[39m\n\u001b[1;32m   1192\u001b[0m       \u001b[38;5;124m\"\u001b[39m\u001b[38;5;124mare only accessible from inside \u001b[39m\u001b[38;5;124m'\u001b[39m\u001b[38;5;124minit\u001b[39m\u001b[38;5;124m'\u001b[39m\u001b[38;5;124m or \u001b[39m\u001b[38;5;124m'\u001b[39m\u001b[38;5;124mapply\u001b[39m\u001b[38;5;124m'\u001b[39m\u001b[38;5;124m.\u001b[39m\u001b[38;5;124m\"\u001b[39m\n\u001b[1;32m   1193\u001b[0m   )\n\u001b[0;32m-> 1194\u001b[0m \u001b[38;5;28;01mraise\u001b[39;00m \u001b[38;5;167;01mAttributeError\u001b[39;00m(msg)\n",
      "\u001b[0;31mAttributeError\u001b[0m: \"RBM\" object has no attribute \"hilbert\". If \"hilbert\" is defined in '.setup()', remember these fields are only accessible from inside 'init' or 'apply'."
     ]
    }
   ],
   "source": [
    "# Configurar o otimizador para treinamento\n",
    "op = nk.optimizer.Sgd(learning_rate=0.01)\n",
    "\n",
    "# Configurar o VMC (Variational Monte Carlo) para treinamento\n",
    "vmc = nk.VMC(hamiltonian=hi, optimizer=op, variational_state=ma, n_samples=1000)\n",
    "\n",
    "# Configurar o GS (Ground State) para cálculo do estado fundamental\n",
    "gs = nk.exact.GroundState(hamiltonian=hi)"
   ]
  },
  {
   "cell_type": "code",
   "execution_count": 4,
   "id": "c294f71e",
   "metadata": {},
   "outputs": [
    {
     "ename": "NameError",
     "evalue": "name 'vmc' is not defined",
     "output_type": "error",
     "traceback": [
      "\u001b[0;31m---------------------------------------------------------------------------\u001b[0m",
      "\u001b[0;31mNameError\u001b[0m                                 Traceback (most recent call last)",
      "Cell \u001b[0;32mIn[4], line 9\u001b[0m\n\u001b[1;32m      3\u001b[0m     \u001b[38;5;28;01mreturn\u001b[39;00m {\n\u001b[1;32m      4\u001b[0m         \u001b[38;5;124m\"\u001b[39m\u001b[38;5;124mbias\u001b[39m\u001b[38;5;124m\"\u001b[39m: vstate\u001b[38;5;241m.\u001b[39mvariables[\u001b[38;5;124m\"\u001b[39m\u001b[38;5;124mparams\u001b[39m\u001b[38;5;124m\"\u001b[39m][\u001b[38;5;124m\"\u001b[39m\u001b[38;5;124mbias\u001b[39m\u001b[38;5;124m\"\u001b[39m],\n\u001b[1;32m      5\u001b[0m         \u001b[38;5;124m\"\u001b[39m\u001b[38;5;124mkernel\u001b[39m\u001b[38;5;124m\"\u001b[39m: vstate\u001b[38;5;241m.\u001b[39mvariables[\u001b[38;5;124m\"\u001b[39m\u001b[38;5;124mparams\u001b[39m\u001b[38;5;124m\"\u001b[39m][\u001b[38;5;124m\"\u001b[39m\u001b[38;5;124mkernel\u001b[39m\u001b[38;5;124m\"\u001b[39m]\n\u001b[1;32m      6\u001b[0m     }\n\u001b[1;32m      8\u001b[0m \u001b[38;5;66;03m# Adicionar a função de observável personalizada ao VMC\u001b[39;00m\n\u001b[0;32m----> 9\u001b[0m \u001b[43mvmc\u001b[49m\u001b[38;5;241m.\u001b[39madd_observable(custom_observable, name\u001b[38;5;241m=\u001b[39m\u001b[38;5;124m\"\u001b[39m\u001b[38;5;124mCustomObservables\u001b[39m\u001b[38;5;124m\"\u001b[39m)\n\u001b[1;32m     11\u001b[0m \u001b[38;5;66;03m# Executar o VMC para treinamento e gravação dos observáveis no log\u001b[39;00m\n\u001b[1;32m     12\u001b[0m it \u001b[38;5;241m=\u001b[39m \u001b[38;5;241m100\u001b[39m\n",
      "\u001b[0;31mNameError\u001b[0m: name 'vmc' is not defined"
     ]
    }
   ],
   "source": [
    "# Definir uma função de observável personalizada para gravar o bias e o kernel\n",
    "def custom_observable(vstate):\n",
    "    return {\n",
    "        \"bias\": vstate.variables[\"params\"][\"bias\"],\n",
    "        \"kernel\": vstate.variables[\"params\"][\"kernel\"]\n",
    "    }\n",
    "\n",
    "# Adicionar a função de observável personalizada ao VMC\n",
    "vmc.add_observable(custom_observable, name=\"CustomObservables\")\n",
    "\n",
    "# Executar o VMC para treinamento e gravação dos observáveis no log\n",
    "it = 100\n",
    "gs.run(out='test', n_iter=it, obs={\"CustomObservables\": custom_observable(ma)})"
   ]
  },
  {
   "cell_type": "code",
   "execution_count": null,
   "id": "dadb5a32",
   "metadata": {},
   "outputs": [],
   "source": []
  }
 ],
 "metadata": {
  "kernelspec": {
   "display_name": "Python 3 (ipykernel)",
   "language": "python",
   "name": "python3"
  },
  "language_info": {
   "codemirror_mode": {
    "name": "ipython",
    "version": 3
   },
   "file_extension": ".py",
   "mimetype": "text/x-python",
   "name": "python",
   "nbconvert_exporter": "python",
   "pygments_lexer": "ipython3",
   "version": "3.10.12"
  }
 },
 "nbformat": 4,
 "nbformat_minor": 5
}
