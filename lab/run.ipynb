{
 "cells": [
  {
   "cell_type": "code",
   "execution_count": 27,
   "id": "6c551cb2",
   "metadata": {},
   "outputs": [
    {
     "ename": "IndentationError",
     "evalue": "unindent does not match any outer indentation level (<tokenize>, line 22)",
     "output_type": "error",
     "traceback": [
      "\u001b[0;36m  File \u001b[0;32m<tokenize>:22\u001b[0;36m\u001b[0m\n\u001b[0;31m    def get_kernel(self):\u001b[0m\n\u001b[0m    ^\u001b[0m\n\u001b[0;31mIndentationError\u001b[0m\u001b[0;31m:\u001b[0m unindent does not match any outer indentation level\n"
     ]
    }
   ],
   "source": [
    "import jax\n",
    "import jax.numpy as jnp\n",
    "import flax.linen as nn\n",
    "import netket as nk\n",
    "\n",
    "# Definir a classe FFNN usando Flax\n",
    "class FFNN(nn.Module):\n",
    "    features: int\n",
    "\n",
    "    def setup(self):\n",
    "        self.dense = nn.Dense(features=2 * self.features,\n",
    "                              use_bias=True,\n",
    "                              kernel_init=nn.initializers.normal(stddev=0.01),\n",
    "                              bias_init=nn.initializers.normal(stddev=0.01))\n",
    "\n",
    "    def __call__(self, x):\n",
    "        x = self.dense(x)\n",
    "        x = nk.nn.log_cosh(x)\n",
    "        x = jnp.sum(x, axis=-1)\n",
    "        return x\n",
    "    \n",
    "     def get_kernel(self):\n",
    "        # Método para acessar o kernel da camada Dense\n",
    "        return self.dense_layer.kernel\n",
    "\n",
    "    def get_bias(self):\n",
    "        # Método para acessar o bias da camada Dense\n",
    "        return self.dense_layer.bias"
   ]
  },
  {
   "cell_type": "code",
   "execution_count": 15,
   "id": "090697f3",
   "metadata": {},
   "outputs": [],
   "source": [
    "# Definir as características desejadas\n",
    "features = 10\n",
    "\n",
    "# Criar uma instância da classe FFNN\n",
    "model = FFNN(features=features)\n"
   ]
  },
  {
   "cell_type": "code",
   "execution_count": 21,
   "id": "1a7f22e7",
   "metadata": {},
   "outputs": [],
   "source": [
    "# Definir o sistema físico (por exemplo, uma cadeia de spins)\n",
    "hilbert = nk.hilbert.Spin(s=0.5, N=features)\n"
   ]
  },
  {
   "cell_type": "code",
   "execution_count": 22,
   "id": "702feb88",
   "metadata": {},
   "outputs": [],
   "source": [
    "# Definir o Hamiltoniano (por exemplo, um Hamiltoniano de Heisenberg)\n",
    "graph = nk.graph.Hypercube(length=features, n_dim=1, pbc=True)\n",
    "hamiltonian = nkboperator.Heisenberg(hilbert=hilbert, graph=graph)\n"
   ]
  },
  {
   "cell_type": "code",
   "execution_count": null,
   "id": "1ab26d9a",
   "metadata": {},
   "outputs": [],
   "source": []
  },
  {
   "cell_type": "code",
   "execution_count": 18,
   "id": "b8ca9941",
   "metadata": {},
   "outputs": [],
   "source": [
    "# Inicializar os parâmetros do modelo\n",
    "params = model.init(jax.random.PRNGKey(0), jnp.ones((1, features)))"
   ]
  },
  {
   "cell_type": "code",
   "execution_count": 20,
   "id": "610b05b4",
   "metadata": {},
   "outputs": [
    {
     "data": {
      "text/plain": [
       "{'params': {'dense': {'kernel': Array([[ 0.00376667,  0.0020297 ,  0.00772478,  0.01992677, -0.00233645,\n",
       "           -0.00859533,  0.02210676, -0.00298595,  0.00432988,  0.00069732,\n",
       "            0.01984553,  0.00043202,  0.00378758,  0.00511061,  0.01726484,\n",
       "           -0.01022205, -0.00228859,  0.00293703,  0.00110508,  0.01302664],\n",
       "          [-0.01129781,  0.00700252,  0.01606497,  0.00100308,  0.0161247 ,\n",
       "           -0.01473898,  0.02448539,  0.00180317,  0.0033476 ,  0.0010455 ,\n",
       "            0.00630282, -0.01765928, -0.00315928,  0.00249232,  0.00264885,\n",
       "            0.00022787, -0.00383366, -0.01237485,  0.01252634,  0.01506279],\n",
       "          [ 0.02151248, -0.00250573,  0.00503129,  0.0069268 , -0.00110906,\n",
       "           -0.00354772,  0.00973429,  0.00024484, -0.01603489, -0.014715  ,\n",
       "           -0.0048883 , -0.01897324, -0.02000317,  0.01652105, -0.00123391,\n",
       "            0.00303314,  0.00013222, -0.00700551, -0.00408264, -0.00346638],\n",
       "          [-0.00134417,  0.00112741, -0.01495876, -0.01743547,  0.00274261,\n",
       "            0.01773166,  0.00854457, -0.00664959, -0.01579234, -0.00144914,\n",
       "           -0.00159573, -0.01912851, -0.01002206,  0.00010285,  0.00361189,\n",
       "            0.00201696, -0.00680397, -0.00733905, -0.00276466, -0.00404917],\n",
       "          [-0.01207585, -0.00819336,  0.0150262 , -0.00277104,  0.01777739,\n",
       "           -0.00405606,  0.01371672,  0.00224241, -0.00654389,  0.01596288,\n",
       "           -0.00302494,  0.01027601,  0.01190771,  0.00127857,  0.00174936,\n",
       "            0.01967042, -0.00172905, -0.00120767, -0.01529852,  0.00709394],\n",
       "          [-0.00323796, -0.00863252,  0.00068213, -0.00029295,  0.00526806,\n",
       "            0.00954324,  0.00073851, -0.00574582,  0.00351174, -0.00917463,\n",
       "           -0.00717176,  0.00123058,  0.00637983,  0.00333363, -0.00670644,\n",
       "            0.007944  ,  0.0048691 , -0.00626895,  0.00284774,  0.00310103],\n",
       "          [ 0.00602999,  0.00433637,  0.00320646,  0.00192119, -0.0030728 ,\n",
       "            0.00517448, -0.01100148, -0.00896268,  0.01330879,  0.00653166,\n",
       "            0.00705762, -0.00257228,  0.00535953, -0.01016917,  0.00464049,\n",
       "           -0.00639067, -0.01000233, -0.00470543,  0.00881521, -0.00465638],\n",
       "          [ 0.01892126, -0.00319575,  0.0011255 ,  0.01444009, -0.01178647,\n",
       "            0.00714858, -0.00548794,  0.00081723,  0.00630172, -0.0165034 ,\n",
       "           -0.01212837,  0.00896989,  0.00350736, -0.0168429 ,  0.01315552,\n",
       "            0.00055932,  0.017237  ,  0.01828826,  0.00786623, -0.01700309],\n",
       "          [-0.0109419 , -0.00522449,  0.01303576,  0.00395141, -0.01364707,\n",
       "            0.00261839, -0.0050506 , -0.00505104,  0.00543612,  0.00337608,\n",
       "           -0.00330403, -0.00345213, -0.00256998,  0.0095271 , -0.01474949,\n",
       "            0.00580721, -0.0132694 , -0.00638094, -0.0085592 ,  0.00946107],\n",
       "          [-0.00329506, -0.00729119, -0.00324659,  0.00231538,  0.01761957,\n",
       "            0.01286137, -0.00405479, -0.01267508, -0.00864283, -0.01586274,\n",
       "           -0.01399769,  0.00373796,  0.00618817, -0.00349231,  0.01374669,\n",
       "           -0.0120746 , -0.02205339,  0.0044768 ,  0.00233927, -0.00118156]],      dtype=float32),\n",
       "   'bias': Array([-7.4758804e-03,  4.5090495e-03,  8.1890374e-03,  5.4044286e-03,\n",
       "           2.4753115e-03,  7.0001341e-05, -1.6997641e-02,  5.5468655e-03,\n",
       "          -8.7544071e-03,  8.1361150e-03,  1.3021606e-02,  2.0515176e-03,\n",
       "           4.6997643e-03,  9.8057473e-03, -1.6578354e-02,  1.1197928e-02,\n",
       "          -1.2078716e-02,  4.4442732e-03,  7.1988939e-03, -6.2135849e-03],      dtype=float32)}}}"
      ]
     },
     "execution_count": 20,
     "metadata": {},
     "output_type": "execute_result"
    }
   ],
   "source": [
    "params"
   ]
  },
  {
   "cell_type": "code",
   "execution_count": null,
   "id": "6cf2a56a",
   "metadata": {},
   "outputs": [],
   "source": []
  },
  {
   "cell_type": "code",
   "execution_count": null,
   "id": "5d035fdc",
   "metadata": {},
   "outputs": [],
   "source": []
  },
  {
   "cell_type": "code",
   "execution_count": null,
   "id": "9bac181d",
   "metadata": {},
   "outputs": [],
   "source": []
  },
  {
   "cell_type": "code",
   "execution_count": null,
   "id": "5962e94e",
   "metadata": {},
   "outputs": [],
   "source": []
  }
 ],
 "metadata": {
  "kernelspec": {
   "display_name": "Python 3 (ipykernel)",
   "language": "python",
   "name": "python3"
  },
  "language_info": {
   "codemirror_mode": {
    "name": "ipython",
    "version": 3
   },
   "file_extension": ".py",
   "mimetype": "text/x-python",
   "name": "python",
   "nbconvert_exporter": "python",
   "pygments_lexer": "ipython3",
   "version": "3.10.12"
  }
 },
 "nbformat": 4,
 "nbformat_minor": 5
}
