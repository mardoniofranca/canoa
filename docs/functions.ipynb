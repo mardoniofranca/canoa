{
 "cells": [
  {
   "cell_type": "code",
   "execution_count": 1,
   "id": "57d54ebd",
   "metadata": {},
   "outputs": [],
   "source": [
    "import math"
   ]
  },
  {
   "cell_type": "markdown",
   "id": "8da272b3",
   "metadata": {},
   "source": [
    "The math.atan() method returns the arc tangent of a number (x) as a numeric value between -PI/2 and PI/2 radians."
   ]
  },
  {
   "cell_type": "code",
   "execution_count": 16,
   "id": "600f7516",
   "metadata": {},
   "outputs": [
    {
     "name": "stdout",
     "output_type": "stream",
     "text": [
      "0.7853981633974483 45.0 0.7071067811865475 0.7071067811865475\n"
     ]
    }
   ],
   "source": [
    "x = 1\n",
    "rad = math.atan(x)\n",
    "gra = (rad * 180.0)/math.pi\n",
    "sin = math.sin(rad)\n",
    "cos = math.sin(rad)\n",
    "print(rad,gra,sin,cos)"
   ]
  },
  {
   "cell_type": "code",
   "execution_count": 17,
   "id": "93a6e404",
   "metadata": {},
   "outputs": [
    {
     "name": "stdout",
     "output_type": "stream",
     "text": [
      "0.5235987755982989 30.000000000000004 0.5 0.5\n"
     ]
    }
   ],
   "source": [
    "x = 1/((3)**(1/2))\n",
    "rad = math.atan(x)\n",
    "gra = (rad * 180.0)/math.pi\n",
    "sin = math.sin(rad)\n",
    "cos = math.sin(rad)\n",
    "print(rad,gra,sin,cos)"
   ]
  },
  {
   "cell_type": "code",
   "execution_count": 18,
   "id": "f810be0b",
   "metadata": {},
   "outputs": [
    {
     "name": "stdout",
     "output_type": "stream",
     "text": [
      "1.0471975511965976 59.99999999999999 0.8660254037844386 0.8660254037844386\n"
     ]
    }
   ],
   "source": [
    "x = ((3)**(1/2))\n",
    "rad = math.atan(x)\n",
    "gra = (rad * 180.0)/math.pi\n",
    "sin = math.sin(rad)\n",
    "cos = math.sin(rad)\n",
    "print(rad,gra,sin,cos)"
   ]
  },
  {
   "cell_type": "code",
   "execution_count": 19,
   "id": "aff5bd45",
   "metadata": {},
   "outputs": [
    {
     "name": "stdout",
     "output_type": "stream",
     "text": [
      "0.4636476090008061 26.56505117707799 0.4472135954999579 0.4472135954999579\n"
     ]
    }
   ],
   "source": [
    "x = (1/2)\n",
    "rad = math.atan(x)\n",
    "gra = (rad * 180.0)/math.pi\n",
    "sin = math.sin(rad)\n",
    "cos = math.sin(rad)\n",
    "print(rad,gra,sin,cos)"
   ]
  },
  {
   "cell_type": "code",
   "execution_count": 20,
   "id": "92fe337b",
   "metadata": {},
   "outputs": [
    {
     "name": "stdout",
     "output_type": "stream",
     "text": [
      "0.24497866312686414 14.036243467926477 75.96375653207352 0.24253562503633297 0.24253562503633297\n"
     ]
    }
   ],
   "source": [
    "x = (1/4)\n",
    "rad = math.atan(x)\n",
    "gra = (rad * 180.0)/math.pi\n",
    "cpl = 90 - gra\n",
    "sin = math.sin(rad)\n",
    "cos = math.sin(rad)\n",
    "print(rad,gra,cpl,sin,cos)"
   ]
  },
  {
   "cell_type": "code",
   "execution_count": null,
   "id": "2ae274f3",
   "metadata": {},
   "outputs": [],
   "source": []
  }
 ],
 "metadata": {
  "kernelspec": {
   "display_name": "Python 3 (ipykernel)",
   "language": "python",
   "name": "python3"
  },
  "language_info": {
   "codemirror_mode": {
    "name": "ipython",
    "version": 3
   },
   "file_extension": ".py",
   "mimetype": "text/x-python",
   "name": "python",
   "nbconvert_exporter": "python",
   "pygments_lexer": "ipython3",
   "version": "3.10.12"
  }
 },
 "nbformat": 4,
 "nbformat_minor": 5
}
