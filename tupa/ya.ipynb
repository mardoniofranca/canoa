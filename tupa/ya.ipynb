{
 "cells": [
  {
   "cell_type": "code",
   "execution_count": 1,
   "id": "4ffe0783-4d54-4211-aaaf-69789505c886",
   "metadata": {},
   "outputs": [],
   "source": [
    "import os\n",
    "os.environ[\"JAX_PLATFORM_NAME\"] = \"cpu\"\n",
    "import netket as nk\n",
    "import numpy as np\n",
    "import matplotlib.pyplot as plt\n",
    "import jax\n",
    "import pandas as pd\n",
    "import netket.nn as nknn\n",
    "import flax.linen as nn\n",
    "import jax.numpy as jnp\n",
    "import matplotlib.pyplot as plt \n",
    "import pandas as pd\n",
    "import warnings\n",
    "warnings.filterwarnings(\"ignore\")"
   ]
  },
  {
   "cell_type": "code",
   "execution_count": 2,
   "id": "78fb3000-d623-4f5f-87c1-46c999e8e64f",
   "metadata": {},
   "outputs": [],
   "source": [
    "#Couplings J1 and J2\n",
    "J = [1, 0.2]\n",
    "L = 8"
   ]
  },
  {
   "cell_type": "code",
   "execution_count": 7,
   "id": "216b745d",
   "metadata": {},
   "outputs": [
    {
     "data": {
      "text/plain": [
       "1.04"
      ]
     },
     "execution_count": 7,
     "metadata": {},
     "output_type": "execute_result"
    }
   ],
   "source": [
    "J[0]**2 + J[1]**2 "
   ]
  },
  {
   "cell_type": "code",
   "execution_count": 8,
   "id": "945fb0af-187d-4598-92dd-d2f604434c4a",
   "metadata": {},
   "outputs": [],
   "source": [
    "# Define custom graph\n",
    "edge_colors = []\n",
    "for i in range(L):\n",
    "    edge_colors.append([i, (i+1)%L, 1])\n",
    "    edge_colors.append([i, (i+2)%L, 2])\n",
    "# Define the netket graph object\n",
    "g = nk.graph.Graph(edges=edge_colors)\n",
    "\n",
    "#Sigma^z*Sigma^z interactions\n",
    "sigmaz = [[1, 0], [0, -1]]\n",
    "mszsz = (np.kron(sigmaz, sigmaz))\n",
    "exchange = np.asarray([[0, 0, 0, 0], [0, 0, 2, 0], [0, 2, 0, 0], [0, 0, 0, 0]])\n",
    "\n",
    "bond_operator = [\n",
    "    (J[0] * mszsz).tolist(),\n",
    "    (J[1] * mszsz).tolist(),\n",
    "    (-J[0] * exchange).tolist(),  \n",
    "    (J[1] * exchange).tolist(),\n",
    "]\n",
    "\n",
    "bond_color = [1, 2, 1, 2]\n",
    "hi = nk.hilbert.Spin(s=0.5, total_sz=0.0, N=g.n_nodes)"
   ]
  },
  {
   "cell_type": "code",
   "execution_count": 9,
   "id": "ce1ecf59-c5e3-49fc-9145-7e25eff70e9b",
   "metadata": {},
   "outputs": [],
   "source": [
    "op = nk.operator.GraphOperator(hi, graph=g, bond_ops=bond_operator, bond_ops_colors=bond_color)"
   ]
  },
  {
   "cell_type": "code",
   "execution_count": 10,
   "id": "113065ff-7cc2-49cd-9283-27dc8dd3c40c",
   "metadata": {},
   "outputs": [],
   "source": [
    "class FFNN(nn.Module):\n",
    "    @nn.compact\n",
    "    def __call__(self, x):\n",
    "        x = nn.Dense(features=2*x.shape[-1], \n",
    "                     use_bias=True, \n",
    "                     param_dtype=np.complex128, \n",
    "                     kernel_init=nn.initializers.normal(stddev=0.01), \n",
    "                     bias_init=nn.initializers.normal(stddev=0.01)\n",
    "                    )(x)\n",
    "        x = nknn.log_cosh(x)\n",
    "        x = jnp.sum(x, axis=-1)\n",
    "        return x\n",
    "\n",
    "model = FFNN()"
   ]
  },
  {
   "cell_type": "code",
   "execution_count": 11,
   "id": "6548f801-d170-46f3-8bcb-d92582a49f95",
   "metadata": {},
   "outputs": [],
   "source": [
    "sa = nk.sampler.MetropolisExchange(hilbert=hi, graph=g, d_max = 2)\n",
    "vs = nk.vqs.MCState(sa, model, n_samples=1008)\n",
    "opt = nk.optimizer.Sgd(learning_rate=0.01)\n",
    "sr = nk.optimizer.SR(diag_shift=0.01)\n",
    "gs = nk.VMC(hamiltonian=op, optimizer=opt, variational_state=vs, preconditioner=sr)"
   ]
  },
  {
   "cell_type": "code",
   "execution_count": 12,
   "id": "a8488555-da1c-4a94-943e-c51accaa92a3",
   "metadata": {},
   "outputs": [
    {
     "data": {
      "text/plain": [
       "MCState(\n",
       "  hilbert = Spin(s=1/2, total_sz=0.0, N=8),\n",
       "  sampler = MetropolisSampler(rule = ExchangeRule(# of clusters: 28), n_chains = 16, n_sweeps = 8, reset_chains = False, machine_power = 2, dtype = <class 'float'>),\n",
       "  n_samples = 1008,\n",
       "  n_discard_per_chain = 100,\n",
       "  sampler_state = MetropolisSamplerState(rng state=[1181982813 3442651076]),\n",
       "  n_parameters = 144)"
      ]
     },
     "execution_count": 12,
     "metadata": {},
     "output_type": "execute_result"
    }
   ],
   "source": [
    "vs"
   ]
  },
  {
   "cell_type": "code",
   "execution_count": 13,
   "id": "15b4b91a-c2c9-40d8-a8ea-78806a99a3b6",
   "metadata": {},
   "outputs": [],
   "source": [
    "vs_i_parameters = vs.parameters.copy()"
   ]
  },
  {
   "cell_type": "code",
   "execution_count": 14,
   "id": "63dc3a14-6eea-465a-b196-6ad5ebc8492b",
   "metadata": {},
   "outputs": [
    {
     "data": {
      "text/plain": [
       "Array([ 0.00195301-0.00013294j, -0.0187443 +0.00381496j,\n",
       "       -0.00613122+0.00155427j, -0.00689251-0.00226213j,\n",
       "       -0.00283473-0.00086334j, -0.00671474+0.00255856j,\n",
       "        0.00016241+0.00089776j,  0.01240301-0.00952049j,\n",
       "       -0.00600021+0.0012761j , -0.01128924-0.00370158j,\n",
       "        0.00059864-0.00478035j,  0.00249781-0.00839709j,\n",
       "        0.00920196+0.004698j  ,  0.00424503+0.00523527j,\n",
       "        0.00944227+0.00756668j, -0.0084744 +0.00291845j],      dtype=complex128)"
      ]
     },
     "execution_count": 14,
     "metadata": {},
     "output_type": "execute_result"
    }
   ],
   "source": [
    "vs_i_parameters['Dense_0']['bias']"
   ]
  },
  {
   "cell_type": "code",
   "execution_count": 15,
   "id": "6fdd531a-cdb5-4118-b2f9-4711685b0bcd",
   "metadata": {},
   "outputs": [],
   "source": [
    "# Define a função de perda (loss function) para o treinamento\n",
    "def loss(params, structure_factor):\n",
    "    output = model.apply({'params': params}, structure_factor)\n",
    "    return jnp.mean(output)\n",
    "# Função de callback para salvar os parâmetros durante o treinamento\n",
    "def save_params(step, params, energy):\n",
    "    trained_params_list.append(params.copy())\n",
    "    parameters_list.append(energy.state.parameters.copy())\n",
    "    iii.append(1)\n",
    "    return True"
   ]
  },
  {
   "cell_type": "code",
   "execution_count": 16,
   "id": "b1635e6c-dc9e-4ee1-883e-7255262a68dc",
   "metadata": {},
   "outputs": [],
   "source": [
    "sf = []\n",
    "sites = []\n",
    "structure_factor = nk.operator.LocalOperator(hi, dtype=complex)\n",
    "for i in range(0, L):\n",
    "    for j in range(0, L):\n",
    "        structure_factor += (nk.operator.spin.sigmaz(hi, i)*nk.operator.spin.sigmaz(hi, j))*((-1)**(i-j))/L\n",
    "\n",
    "# Define uma lista para armazenar os parâmetros do modelo durante o treinamento\n",
    "trained_params_list = []\n",
    "parameters_list     = []\n",
    "iii                 = []"
   ]
  },
  {
   "cell_type": "code",
   "execution_count": 18,
   "id": "76c05d1e-3baa-42dc-90e0-4222e9153776",
   "metadata": {},
   "outputs": [
    {
     "name": "stderr",
     "output_type": "stream",
     "text": [
      "100%|████████████████████████████████████████████████████████████████████████████| 100/100 [00:05<00:00, 16.87it/s, Energy=-13.40284-0.00015j ± 0.00020 [σ²=0.00004, R̂=1.0070]]\n"
     ]
    },
    {
     "data": {
      "text/plain": [
       "(JsonLog('test', mode=write, autoflush_cost=0.005)\n",
       "   Runtime cost:\n",
       "   \tLog:    0.020716190338134766\n",
       "   \tParams: 0.0005695819854736328,)"
      ]
     },
     "execution_count": 18,
     "metadata": {},
     "output_type": "execute_result"
    }
   ],
   "source": [
    "gs.run(out='test', n_iter=100, obs={'Structure Factor': structure_factor}, callback=save_params)"
   ]
  },
  {
   "cell_type": "code",
   "execution_count": null,
   "id": "27d8eaaa-2a53-4755-ab15-1c087270c62a",
   "metadata": {},
   "outputs": [],
   "source": [
    "vs.parameters['Dense_0']['bias']"
   ]
  },
  {
   "cell_type": "code",
   "execution_count": null,
   "id": "beff7c16-fa49-41e2-a61a-c6ba4fa7bb54",
   "metadata": {},
   "outputs": [],
   "source": [
    "len(parameters_list)"
   ]
  },
  {
   "cell_type": "code",
   "execution_count": null,
   "id": "fa8ee8cb-6535-43d3-b56a-a5d40d0ae3a6",
   "metadata": {},
   "outputs": [],
   "source": [
    "parameters_list[-1]['Dense_0']['bias']"
   ]
  },
  {
   "cell_type": "code",
   "execution_count": null,
   "id": "527008fe-232a-47c4-b3ec-1a833b071750",
   "metadata": {},
   "outputs": [],
   "source": [
    "def info(e):\n",
    "    head   = list(e.keys())[0]\n",
    "    body   = list(e[head].keys())\n",
    "    bias   = e[head][body[0]]\n",
    "    kernel = e[head][body[1]]\n",
    "    return  head, body, list(bias), list(kernel)\n",
    "def real(c):\n",
    "    return float(np.real(c))  \n",
    "def img(c):\n",
    "    return float(np.imag(c))    \n",
    "def r_i(c):\n",
    "    return real(c),img(c)   "
   ]
  },
  {
   "cell_type": "code",
   "execution_count": null,
   "id": "cdd49794-f3f9-4f50-9b17-aa8e9f56667c",
   "metadata": {},
   "outputs": [],
   "source": [
    "head, body, bias_list,kernel_list = info(parameters_list[-1])"
   ]
  },
  {
   "cell_type": "code",
   "execution_count": null,
   "id": "6c3278f0-833a-4c4f-b263-90a84e6402ee",
   "metadata": {},
   "outputs": [],
   "source": [
    "len(bias_list)"
   ]
  },
  {
   "cell_type": "code",
   "execution_count": null,
   "id": "cce5be0c",
   "metadata": {},
   "outputs": [],
   "source": [
    "real_df = pd.DataFrame()\n",
    "img_df  = pd.DataFrame()\n",
    "for param in parameters_list:\n",
    "    head, body, bias_list,kernel_list = info(param)\n",
    "    real_v = [];img_v = []\n",
    "    for bias in bias_list:\n",
    "        nr, ni = r_i(bias); \n",
    "        real_v.append(nr)\n",
    "        img_v.append(ni)   \n",
    "    \n",
    "    real_row_df = pd.DataFrame([real_v])\n",
    "    img_row_df  = pd.DataFrame([img_v])\n",
    "        \n",
    "    real_df = pd.concat([real_df,real_row_df])\n",
    "    img_df  = pd.concat([img_df,img_row_df])   "
   ]
  },
  {
   "cell_type": "code",
   "execution_count": null,
   "id": "1362ce2b",
   "metadata": {},
   "outputs": [],
   "source": [
    "real_df.shape"
   ]
  },
  {
   "cell_type": "code",
   "execution_count": null,
   "id": "0b06951b",
   "metadata": {},
   "outputs": [],
   "source": [
    "img_df.shape"
   ]
  },
  {
   "cell_type": "code",
   "execution_count": null,
   "id": "075b4430",
   "metadata": {},
   "outputs": [],
   "source": [
    "real_df.head()"
   ]
  },
  {
   "cell_type": "code",
   "execution_count": null,
   "id": "6ff5f0a9",
   "metadata": {},
   "outputs": [],
   "source": [
    "real_df.columns"
   ]
  },
  {
   "cell_type": "code",
   "execution_count": null,
   "id": "e13caf70",
   "metadata": {},
   "outputs": [],
   "source": [
    "real_df.insert(0, 'id', range(1, 1 + len(real_df)))"
   ]
  },
  {
   "cell_type": "code",
   "execution_count": null,
   "id": "1a11ef13",
   "metadata": {},
   "outputs": [],
   "source": [
    "real_df.columns"
   ]
  },
  {
   "cell_type": "code",
   "execution_count": null,
   "id": "e4ae3592",
   "metadata": {},
   "outputs": [],
   "source": [
    "img_df.insert(0, 'id', range(1, 1 + len(img_df)))"
   ]
  },
  {
   "cell_type": "code",
   "execution_count": null,
   "id": "68c7fbd1",
   "metadata": {},
   "outputs": [],
   "source": [
    "img_df.head()"
   ]
  },
  {
   "cell_type": "code",
   "execution_count": null,
   "id": "31dec6b0",
   "metadata": {},
   "outputs": [],
   "source": [
    "real_df.plot('id',y=[0,1,2,3,4,5,6,7,8,9,10,11,12,13,14,15])\n",
    "plt.show()\n"
   ]
  },
  {
   "cell_type": "code",
   "execution_count": null,
   "id": "4e54ead6",
   "metadata": {},
   "outputs": [],
   "source": [
    "img_df.plot('id',y=[0,1,2,3,4,5,6,7,8,9,10,11,12,13,14,15])\n",
    "plt.show()"
   ]
  },
  {
   "cell_type": "code",
   "execution_count": null,
   "id": "5d08f147",
   "metadata": {},
   "outputs": [],
   "source": [
    "real_df.plot('id',y=[0])\n",
    "plt.show()"
   ]
  },
  {
   "cell_type": "code",
   "execution_count": null,
   "id": "d7c6cc4c",
   "metadata": {},
   "outputs": [],
   "source": [
    "img_df.plot('id',y=[0])\n",
    "plt.show()"
   ]
  },
  {
   "cell_type": "code",
   "execution_count": null,
   "id": "b73b4496",
   "metadata": {},
   "outputs": [],
   "source": [
    "len(kernel_list)"
   ]
  },
  {
   "cell_type": "code",
   "execution_count": null,
   "id": "adeb2822",
   "metadata": {},
   "outputs": [],
   "source": [
    "len(kernel_list[0])"
   ]
  },
  {
   "cell_type": "code",
   "execution_count": null,
   "id": "5c0c88eb",
   "metadata": {},
   "outputs": [],
   "source": [
    "(kernel_list[0][0])"
   ]
  },
  {
   "cell_type": "code",
   "execution_count": null,
   "id": "3e6cf8b1",
   "metadata": {},
   "outputs": [],
   "source": [
    "real_kernel_df = pd.DataFrame()\n",
    "img_kernel_df  = pd.DataFrame()\n",
    "for param in parameters_list:\n",
    "    head, body, bias_list,kernel_list = info(param)\n",
    "    real_v = [];img_v = []\n",
    "    for ks in kernel_list:\n",
    "        for k in ks:\n",
    "            nr, ni = r_i(k); \n",
    "            real_v.append(nr)\n",
    "            img_v.append(ni) \n",
    "    real_row_df = pd.DataFrame([real_v])\n",
    "    img_row_df  = pd.DataFrame([img_v])\n",
    "    \n",
    "    real_kernel_df = pd.concat([real_kernel_df,real_row_df])\n",
    "    img_kernel_df  = pd.concat([img_kernel_df,img_row_df])   "
   ]
  },
  {
   "cell_type": "code",
   "execution_count": null,
   "id": "cd7c5f97",
   "metadata": {},
   "outputs": [],
   "source": [
    "real_kernel_df.insert(0, 'id', range(1, 1 + len(real_kernel_df)))\n",
    "img_kernel_df.insert(0, 'id', range(1, 1 + len(img_kernel_df)))"
   ]
  },
  {
   "cell_type": "code",
   "execution_count": null,
   "id": "436e1003",
   "metadata": {},
   "outputs": [],
   "source": [
    "real_kernel_df.plot('id',y=[0])\n",
    "plt.show()"
   ]
  },
  {
   "cell_type": "code",
   "execution_count": null,
   "id": "c53cb670",
   "metadata": {},
   "outputs": [],
   "source": [
    "img_kernel_df.plot('id',y=[0])\n",
    "plt.show()"
   ]
  },
  {
   "cell_type": "code",
   "execution_count": null,
   "id": "1f96fed8",
   "metadata": {},
   "outputs": [],
   "source": [
    "img_kernel_df.columns"
   ]
  },
  {
   "cell_type": "code",
   "execution_count": null,
   "id": "39303f86",
   "metadata": {},
   "outputs": [],
   "source": [
    "yt = []\n",
    "for i in range(0,128): \n",
    "    if i % 8 ==0:\n",
    "        yt.append(i)  \n",
    "img_kernel_df.plot('id',y=yt)\n",
    "plt.show()"
   ]
  },
  {
   "cell_type": "code",
   "execution_count": null,
   "id": "fc8ec580",
   "metadata": {},
   "outputs": [],
   "source": [
    "yt = []\n",
    "for i in range(0,128): \n",
    "    yt.append(i)        "
   ]
  },
  {
   "cell_type": "code",
   "execution_count": null,
   "id": "92e5d390",
   "metadata": {},
   "outputs": [],
   "source": [
    "img_kernel_df.plot('id',y=yt)\n",
    "plt.show()"
   ]
  },
  {
   "cell_type": "code",
   "execution_count": null,
   "id": "dd26954a",
   "metadata": {},
   "outputs": [],
   "source": [
    "real_kernel_df.plot('id',y=[7])\n",
    "plt.show()"
   ]
  },
  {
   "cell_type": "code",
   "execution_count": null,
   "id": "a1a1e149",
   "metadata": {},
   "outputs": [],
   "source": [
    "yt = []\n",
    "for i in range(0,128): \n",
    "    if i % 8 ==0:\n",
    "        yt.append(i)  \n",
    "real_kernel_df.plot('id',y=yt)\n",
    "plt.show()"
   ]
  },
  {
   "cell_type": "code",
   "execution_count": null,
   "id": "5773faa6-fb9d-439c-a355-0125b930cbe6",
   "metadata": {},
   "outputs": [],
   "source": [
    "yt = []\n",
    "for i in range(0,128): \n",
    "    yt.append(i)  \n",
    "real_kernel_df.plot('id',y=yt)\n",
    "plt.show()"
   ]
  },
  {
   "cell_type": "code",
   "execution_count": null,
   "id": "754c0d46-cb15-4a28-afcd-908c641154ed",
   "metadata": {},
   "outputs": [],
   "source": []
  }
 ],
 "metadata": {
  "kernelspec": {
   "display_name": "Python 3 (ipykernel)",
   "language": "python",
   "name": "python3"
  },
  "language_info": {
   "codemirror_mode": {
    "name": "ipython",
    "version": 3
   },
   "file_extension": ".py",
   "mimetype": "text/x-python",
   "name": "python",
   "nbconvert_exporter": "python",
   "pygments_lexer": "ipython3",
   "version": "3.10.12"
  }
 },
 "nbformat": 4,
 "nbformat_minor": 5
}
