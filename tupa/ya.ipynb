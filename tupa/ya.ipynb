{
 "cells": [
  {
   "cell_type": "code",
   "execution_count": 1,
   "id": "4ffe0783-4d54-4211-aaaf-69789505c886",
   "metadata": {},
   "outputs": [],
   "source": [
    "import os\n",
    "os.environ[\"JAX_PLATFORM_NAME\"] = \"cpu\"\n",
    "import netket as nk\n",
    "import numpy as np\n",
    "import matplotlib.pyplot as plt\n",
    "import jax\n",
    "import warnings\n",
    "warnings.filterwarnings(\"ignore\")"
   ]
  },
  {
   "cell_type": "code",
   "execution_count": 2,
   "id": "78fb3000-d623-4f5f-87c1-46c999e8e64f",
   "metadata": {},
   "outputs": [],
   "source": [
    "#Couplings J1 and J2\n",
    "J = [1, 0.2]\n",
    "L = 8"
   ]
  },
  {
   "cell_type": "code",
   "execution_count": 3,
   "id": "945fb0af-187d-4598-92dd-d2f604434c4a",
   "metadata": {},
   "outputs": [],
   "source": [
    "# Define custom graph\n",
    "edge_colors = []\n",
    "for i in range(L):\n",
    "    edge_colors.append([i, (i+1)%L, 1])\n",
    "    edge_colors.append([i, (i+2)%L, 2])\n",
    "# Define the netket graph object\n",
    "g = nk.graph.Graph(edges=edge_colors)\n",
    "\n",
    "#Sigma^z*Sigma^z interactions\n",
    "sigmaz = [[1, 0], [0, -1]]\n",
    "mszsz = (np.kron(sigmaz, sigmaz))\n",
    "exchange = np.asarray([[0, 0, 0, 0], [0, 0, 2, 0], [0, 2, 0, 0], [0, 0, 0, 0]])\n",
    "\n",
    "bond_operator = [\n",
    "    (J[0] * mszsz).tolist(),\n",
    "    (J[1] * mszsz).tolist(),\n",
    "    (-J[0] * exchange).tolist(),  \n",
    "    (J[1] * exchange).tolist(),\n",
    "]\n",
    "\n",
    "bond_color = [1, 2, 1, 2]\n",
    "hi = nk.hilbert.Spin(s=0.5, total_sz=0.0, N=g.n_nodes)"
   ]
  },
  {
   "cell_type": "code",
   "execution_count": 4,
   "id": "ce1ecf59-c5e3-49fc-9145-7e25eff70e9b",
   "metadata": {},
   "outputs": [],
   "source": [
    "op = nk.operator.GraphOperator(hi, graph=g, bond_ops=bond_operator, bond_ops_colors=bond_color)"
   ]
  },
  {
   "cell_type": "code",
   "execution_count": 5,
   "id": "113065ff-7cc2-49cd-9283-27dc8dd3c40c",
   "metadata": {},
   "outputs": [],
   "source": [
    "import netket.nn as nknn\n",
    "import flax.linen as nn\n",
    "import jax.numpy as jnp\n",
    "\n",
    "class FFNN(nn.Module):\n",
    "    @nn.compact\n",
    "    def __call__(self, x):\n",
    "        x = nn.Dense(features=2*x.shape[-1], \n",
    "                     use_bias=True, \n",
    "                     param_dtype=np.complex128, \n",
    "                     kernel_init=nn.initializers.normal(stddev=0.01), \n",
    "                     bias_init=nn.initializers.normal(stddev=0.01)\n",
    "                    )(x)\n",
    "        x = nknn.log_cosh(x)\n",
    "        x = jnp.sum(x, axis=-1)\n",
    "        return x\n",
    "\n",
    "model = FFNN()"
   ]
  },
  {
   "cell_type": "code",
   "execution_count": 6,
   "id": "6548f801-d170-46f3-8bcb-d92582a49f95",
   "metadata": {},
   "outputs": [],
   "source": [
    "sa = nk.sampler.MetropolisExchange(hilbert=hi, graph=g, d_max = 2)\n",
    "vs = nk.vqs.MCState(sa, model, n_samples=1008)\n",
    "opt = nk.optimizer.Sgd(learning_rate=0.01)\n",
    "sr = nk.optimizer.SR(diag_shift=0.01)\n",
    "gs = nk.VMC(hamiltonian=op, optimizer=opt, variational_state=vs, preconditioner=sr)"
   ]
  },
  {
   "cell_type": "code",
   "execution_count": 7,
   "id": "a8488555-da1c-4a94-943e-c51accaa92a3",
   "metadata": {},
   "outputs": [
    {
     "data": {
      "text/plain": [
       "MCState(\n",
       "  hilbert = Spin(s=1/2, total_sz=0.0, N=8),\n",
       "  sampler = MetropolisSampler(rule = ExchangeRule(# of clusters: 28), n_chains = 16, sweep_size = 8, reset_chains = False, machine_power = 2, dtype = <class 'float'>),\n",
       "  n_samples = 1008,\n",
       "  n_discard_per_chain = 100,\n",
       "  sampler_state = MetropolisSamplerState(rng state=[2884847178 1803461318]),\n",
       "  n_parameters = 144)"
      ]
     },
     "execution_count": 7,
     "metadata": {},
     "output_type": "execute_result"
    }
   ],
   "source": [
    "vs"
   ]
  },
  {
   "cell_type": "code",
   "execution_count": 17,
   "id": "15b4b91a-c2c9-40d8-a8ea-78806a99a3b6",
   "metadata": {},
   "outputs": [],
   "source": [
    "vs_i_parameters = vs.parameters.copy()"
   ]
  },
  {
   "cell_type": "code",
   "execution_count": 18,
   "id": "63dc3a14-6eea-465a-b196-6ad5ebc8492b",
   "metadata": {},
   "outputs": [
    {
     "data": {
      "text/plain": [
       "Array([ 0.01015423-0.00759328j,  0.01114902-0.00910018j,\n",
       "        0.00202281+0.00067481j,  0.00461645+0.00566972j,\n",
       "        0.01230939-0.01161218j, -0.0094413 +0.01060325j,\n",
       "        0.00399605+0.00864876j, -0.00578464+0.0001741j ,\n",
       "        0.00806847-0.00763409j,  0.00809708-0.00459213j,\n",
       "        0.00125037+0.00841867j,  0.00526244-0.00314228j,\n",
       "       -0.00616233+0.00230532j, -0.00888735-0.00568256j,\n",
       "        0.007714  -0.01552738j,  0.01041586+0.00602959j],      dtype=complex128)"
      ]
     },
     "execution_count": 18,
     "metadata": {},
     "output_type": "execute_result"
    }
   ],
   "source": [
    "vs_i_parameters['Dense_0']['bias']"
   ]
  },
  {
   "cell_type": "code",
   "execution_count": 20,
   "id": "6fdd531a-cdb5-4118-b2f9-4711685b0bcd",
   "metadata": {},
   "outputs": [],
   "source": [
    "# Define a função de perda (loss function) para o treinamento\n",
    "def loss(params, structure_factor):\n",
    "    output = model.apply({'params': params}, structure_factor)\n",
    "    return jnp.mean(output)\n",
    "# Função de callback para salvar os parâmetros durante o treinamento\n",
    "def save_params(step, params, energy):\n",
    "    trained_params_list.append(params.copy())\n",
    "    parameters_list.append(energy.state.parameters.copy())\n",
    "    iii.append(1)\n",
    "    return True"
   ]
  },
  {
   "cell_type": "code",
   "execution_count": 21,
   "id": "b1635e6c-dc9e-4ee1-883e-7255262a68dc",
   "metadata": {},
   "outputs": [],
   "source": [
    "sf = []\n",
    "sites = []\n",
    "structure_factor = nk.operator.LocalOperator(hi, dtype=complex)\n",
    "for i in range(0, L):\n",
    "    for j in range(0, L):\n",
    "        structure_factor += (nk.operator.spin.sigmaz(hi, i)*nk.operator.spin.sigmaz(hi, j))*((-1)**(i-j))/L\n",
    "\n",
    "# Define uma lista para armazenar os parâmetros do modelo durante o treinamento\n",
    "trained_params_list = []\n",
    "parameters_list     = []\n",
    "iii                 = []"
   ]
  },
  {
   "cell_type": "code",
   "execution_count": 22,
   "id": "76c05d1e-3baa-42dc-90e0-4222e9153776",
   "metadata": {},
   "outputs": [
    {
     "name": "stderr",
     "output_type": "stream",
     "text": [
      "100%|██| 300/300 [00:28<00:00, 10.48it/s, Energy=-13.40285+0.00028j ± 0.00048 [σ²=0.00023, R̂=1.0071]]\n"
     ]
    },
    {
     "data": {
      "text/plain": [
       "(JsonLog('test', mode=write, autoflush_cost=0.005)\n",
       "   Runtime cost:\n",
       "   \tLog:    0.1033620834350586\n",
       "   \tParams: 0.09069442749023438,)"
      ]
     },
     "execution_count": 22,
     "metadata": {},
     "output_type": "execute_result"
    }
   ],
   "source": [
    "gs.run(out='test', n_iter=300, obs={'Structure Factor': structure_factor}, callback=save_params)"
   ]
  },
  {
   "cell_type": "code",
   "execution_count": 23,
   "id": "27d8eaaa-2a53-4755-ab15-1c087270c62a",
   "metadata": {},
   "outputs": [
    {
     "data": {
      "text/plain": [
       "Array([ 5.13200901e-03+0.00019323j,  2.22363492e-03+0.00055872j,\n",
       "        1.12152679e-03+0.00037886j,  4.53394114e-03+0.00050117j,\n",
       "        6.58555255e-03+0.00125517j, -3.32480422e-03+0.00726544j,\n",
       "        9.01720953e-05+0.00159352j,  1.38748592e-03+0.00114699j,\n",
       "        3.12590328e-03+0.00274978j, -7.14637818e-05-0.00294614j,\n",
       "        1.14715862e-03+0.00047066j,  2.63945431e-03+0.00044031j,\n",
       "        1.51922646e-03+0.00036613j, -2.96645580e-03+0.00233363j,\n",
       "        2.33308923e-03-0.00341041j,  5.14134309e-03+0.00208888j],      dtype=complex128)"
      ]
     },
     "execution_count": 23,
     "metadata": {},
     "output_type": "execute_result"
    }
   ],
   "source": [
    "vs.parameters['Dense_0']['bias']"
   ]
  },
  {
   "cell_type": "code",
   "execution_count": 25,
   "id": "beff7c16-fa49-41e2-a61a-c6ba4fa7bb54",
   "metadata": {},
   "outputs": [
    {
     "data": {
      "text/plain": [
       "300"
      ]
     },
     "execution_count": 25,
     "metadata": {},
     "output_type": "execute_result"
    }
   ],
   "source": [
    "len(parameters_list)"
   ]
  },
  {
   "cell_type": "code",
   "execution_count": 26,
   "id": "f8281798-99ce-4a66-ac51-1cdeb7fde725",
   "metadata": {},
   "outputs": [
    {
     "data": {
      "text/plain": [
       "Array([ 5.13625101e-03+0.00017109j,  2.23578669e-03+0.00056511j,\n",
       "        1.11385335e-03+0.0003738j ,  4.55663806e-03+0.00050241j,\n",
       "        6.58600685e-03+0.00123341j, -3.33647465e-03+0.00728987j,\n",
       "        1.05326494e-04+0.0015803j ,  1.39995455e-03+0.00114936j,\n",
       "        3.13967392e-03+0.00274054j, -8.16921587e-05-0.00295458j,\n",
       "        1.17375985e-03+0.00045047j,  2.64764692e-03+0.00043295j,\n",
       "        1.49770299e-03+0.00037758j, -2.98208311e-03+0.00234116j,\n",
       "        2.35462458e-03-0.00343176j,  5.16760553e-03+0.00209346j],      dtype=complex128)"
      ]
     },
     "execution_count": 26,
     "metadata": {},
     "output_type": "execute_result"
    }
   ],
   "source": [
    "parameters_list[299]['Dense_0']['bias']"
   ]
  },
  {
   "cell_type": "code",
   "execution_count": 24,
   "id": "fa8ee8cb-6535-43d3-b56a-a5d40d0ae3a6",
   "metadata": {},
   "outputs": [
    {
     "data": {
      "text/plain": [
       "Array([ 5.13625101e-03+0.00017109j,  2.23578669e-03+0.00056511j,\n",
       "        1.11385335e-03+0.0003738j ,  4.55663806e-03+0.00050241j,\n",
       "        6.58600685e-03+0.00123341j, -3.33647465e-03+0.00728987j,\n",
       "        1.05326494e-04+0.0015803j ,  1.39995455e-03+0.00114936j,\n",
       "        3.13967392e-03+0.00274054j, -8.16921587e-05-0.00295458j,\n",
       "        1.17375985e-03+0.00045047j,  2.64764692e-03+0.00043295j,\n",
       "        1.49770299e-03+0.00037758j, -2.98208311e-03+0.00234116j,\n",
       "        2.35462458e-03-0.00343176j,  5.16760553e-03+0.00209346j],      dtype=complex128)"
      ]
     },
     "execution_count": 24,
     "metadata": {},
     "output_type": "execute_result"
    }
   ],
   "source": [
    "parameters_list[-1]['Dense_0']['bias']"
   ]
  },
  {
   "cell_type": "code",
   "execution_count": 28,
   "id": "527008fe-232a-47c4-b3ec-1a833b071750",
   "metadata": {},
   "outputs": [],
   "source": [
    "def info(e):\n",
    "    head   = list(e.keys())[0]\n",
    "    body   = list(e[head].keys())\n",
    "    bias   = e[head][body[0]]\n",
    "    kernel = e[head][body[1]]\n",
    "    return  head, body, list(bias), list(kernel)\n",
    "def real(c):\n",
    "    return float(np.real(c))  \n",
    "def img(c):\n",
    "    return float(np.imag(c))    \n",
    "def r_i(c):\n",
    "    return real(c),img(c)   "
   ]
  },
  {
   "cell_type": "code",
   "execution_count": 31,
   "id": "cdd49794-f3f9-4f50-9b17-aa8e9f56667c",
   "metadata": {},
   "outputs": [],
   "source": [
    "head, body, bias_list,kernel_list = info(parameters_list[-1])"
   ]
  },
  {
   "cell_type": "code",
   "execution_count": 51,
   "id": "6c3278f0-833a-4c4f-b263-90a84e6402ee",
   "metadata": {},
   "outputs": [
    {
     "data": {
      "text/plain": [
       "16"
      ]
     },
     "execution_count": 51,
     "metadata": {},
     "output_type": "execute_result"
    }
   ],
   "source": [
    "len(bias_list)"
   ]
  },
  {
   "cell_type": "code",
   "execution_count": 54,
   "id": "f0b5edb9-17dc-4549-b044-5ce89a146686",
   "metadata": {},
   "outputs": [],
   "source": [
    "i = 0\n",
    "df = pd.DataFrame()\n",
    "b_real = [];b_img = []\n",
    "for bias in bias_list:\n",
    "    nr, ni = r_i(bias); b_real.append(nr); b_img.append(ni); i = i +1\n",
    "    v = []\n",
    "    l = [index,nr,ni]\n",
    "    v.append(l)\n",
    "    dft = pd.DataFrame(v, columns=['real_bias', 'img_bias'])\n",
    "    df = pd.concat([df,dft])"
   ]
  },
  {
   "cell_type": "code",
   "execution_count": 56,
   "id": "622ee23a-b290-415b-9489-cf7b811febbd",
   "metadata": {},
   "outputs": [
    {
     "data": {
      "text/html": [
       "<div>\n",
       "<style scoped>\n",
       "    .dataframe tbody tr th:only-of-type {\n",
       "        vertical-align: middle;\n",
       "    }\n",
       "\n",
       "    .dataframe tbody tr th {\n",
       "        vertical-align: top;\n",
       "    }\n",
       "\n",
       "    .dataframe thead th {\n",
       "        text-align: right;\n",
       "    }\n",
       "</style>\n",
       "<table border=\"1\" class=\"dataframe\">\n",
       "  <thead>\n",
       "    <tr style=\"text-align: right;\">\n",
       "      <th></th>\n",
       "      <th>real_bias</th>\n",
       "      <th>img_bias</th>\n",
       "    </tr>\n",
       "  </thead>\n",
       "  <tbody>\n",
       "    <tr>\n",
       "      <th>0</th>\n",
       "      <td>0.005136</td>\n",
       "      <td>0.000171</td>\n",
       "    </tr>\n",
       "    <tr>\n",
       "      <th>0</th>\n",
       "      <td>0.002236</td>\n",
       "      <td>0.000565</td>\n",
       "    </tr>\n",
       "    <tr>\n",
       "      <th>0</th>\n",
       "      <td>0.001114</td>\n",
       "      <td>0.000374</td>\n",
       "    </tr>\n",
       "    <tr>\n",
       "      <th>0</th>\n",
       "      <td>0.004557</td>\n",
       "      <td>0.000502</td>\n",
       "    </tr>\n",
       "    <tr>\n",
       "      <th>0</th>\n",
       "      <td>0.006586</td>\n",
       "      <td>0.001233</td>\n",
       "    </tr>\n",
       "    <tr>\n",
       "      <th>0</th>\n",
       "      <td>-0.003336</td>\n",
       "      <td>0.007290</td>\n",
       "    </tr>\n",
       "    <tr>\n",
       "      <th>0</th>\n",
       "      <td>0.000105</td>\n",
       "      <td>0.001580</td>\n",
       "    </tr>\n",
       "    <tr>\n",
       "      <th>0</th>\n",
       "      <td>0.001400</td>\n",
       "      <td>0.001149</td>\n",
       "    </tr>\n",
       "    <tr>\n",
       "      <th>0</th>\n",
       "      <td>0.003140</td>\n",
       "      <td>0.002741</td>\n",
       "    </tr>\n",
       "    <tr>\n",
       "      <th>0</th>\n",
       "      <td>-0.000082</td>\n",
       "      <td>-0.002955</td>\n",
       "    </tr>\n",
       "  </tbody>\n",
       "</table>\n",
       "</div>"
      ],
      "text/plain": [
       "   real_bias  img_bias\n",
       "0   0.005136  0.000171\n",
       "0   0.002236  0.000565\n",
       "0   0.001114  0.000374\n",
       "0   0.004557  0.000502\n",
       "0   0.006586  0.001233\n",
       "0  -0.003336  0.007290\n",
       "0   0.000105  0.001580\n",
       "0   0.001400  0.001149\n",
       "0   0.003140  0.002741\n",
       "0  -0.000082 -0.002955"
      ]
     },
     "execution_count": 56,
     "metadata": {},
     "output_type": "execute_result"
    }
   ],
   "source": [
    "df.head(10)"
   ]
  },
  {
   "cell_type": "code",
   "execution_count": 57,
   "id": "bd75bdaa-4815-4a5e-9141-de1e40f5280f",
   "metadata": {},
   "outputs": [
    {
     "data": {
      "image/png": "[encoded data removed]",
      "text/plain": [
       "<Figure size 640x480 with 1 Axes>"
      ]
     },
     "metadata": {},
     "output_type": "display_data"
    }
   ],
   "source": [
    "plot = df.plot(title=\"DataFrame Plot\")"
   ]
  },
  {
   "cell_type": "code",
   "execution_count": 47,
   "id": "99bf9f64-a799-4284-8869-4148ec2bcdf4",
   "metadata": {},
   "outputs": [],
   "source": []
  },
  {
   "cell_type": "code",
   "execution_count": 48,
   "id": "67b8154f-ec06-45b8-a8f2-b233b36bced4",
   "metadata": {},
   "outputs": [],
   "source": [
    "import pandas as pd\n"
   ]
  },
  {
   "cell_type": "code",
   "execution_count": 49,
   "id": "264acf46-ba0c-4af7-8c47-ed7888f89fde",
   "metadata": {},
   "outputs": [
    {
     "data": {
      "text/html": [
       "<div>\n",
       "<style scoped>\n",
       "    .dataframe tbody tr th:only-of-type {\n",
       "        vertical-align: middle;\n",
       "    }\n",
       "\n",
       "    .dataframe tbody tr th {\n",
       "        vertical-align: top;\n",
       "    }\n",
       "\n",
       "    .dataframe thead th {\n",
       "        text-align: right;\n",
       "    }\n",
       "</style>\n",
       "<table border=\"1\" class=\"dataframe\">\n",
       "  <thead>\n",
       "    <tr style=\"text-align: right;\">\n",
       "      <th></th>\n",
       "      <th>real_bias</th>\n",
       "      <th>img_bias</th>\n",
       "    </tr>\n",
       "  </thead>\n",
       "  <tbody>\n",
       "    <tr>\n",
       "      <th>0</th>\n",
       "      <td>0.005168</td>\n",
       "      <td>0.002093</td>\n",
       "    </tr>\n",
       "  </tbody>\n",
       "</table>\n",
       "</div>"
      ],
      "text/plain": [
       "   real_bias  img_bias\n",
       "0   0.005168  0.002093"
      ]
     },
     "execution_count": 49,
     "metadata": {},
     "output_type": "execute_result"
    }
   ],
   "source": [
    "df.head()"
   ]
  },
  {
   "cell_type": "code",
   "execution_count": 50,
   "id": "8f908745-e6e0-40ab-bf91-f6fa13dc95b6",
   "metadata": {},
   "outputs": [
    {
     "data": {
      "text/plain": [
       "(1, 2)"
      ]
     },
     "execution_count": 50,
     "metadata": {},
     "output_type": "execute_result"
    }
   ],
   "source": [
    "df.shape"
   ]
  },
  {
   "cell_type": "code",
   "execution_count": 33,
   "id": "f0d4b64f-29c5-405f-a1a0-aa1091224b24",
   "metadata": {},
   "outputs": [
    {
     "data": {
      "text/plain": [
       "('Dense_0', ['bias', 'kernel'])"
      ]
     },
     "execution_count": 33,
     "metadata": {},
     "output_type": "execute_result"
    }
   ],
   "source": [
    "head, body"
   ]
  },
  {
   "cell_type": "code",
   "execution_count": 35,
   "id": "658b9908-1d4c-4e8b-ab8a-a7cdf5591d11",
   "metadata": {},
   "outputs": [
    {
     "data": {
      "text/plain": [
       "[Array([-0.14730769+0.03015666j, -0.01679665-0.1495097j ,\n",
       "         0.15299642+0.08303733j, -0.10321546+0.20541964j,\n",
       "         0.13718132-0.04386173j,  0.04018935+0.02203545j,\n",
       "         0.06543846+0.06379955j, -0.08109256+0.0651634j ,\n",
       "        -0.08490057-0.1014249j ,  0.01506866-0.0969116j ,\n",
       "         0.039123  +0.06146279j,  0.04310922-0.19203219j,\n",
       "        -0.00939811+0.24920995j, -0.1189488 -0.1760611j ,\n",
       "         0.02287901-0.07579586j,  0.03342548-0.12097328j],      dtype=complex128),\n",
       " Array([ 0.0880107 +0.01091408j, -0.01866174-0.08555553j,\n",
       "        -0.11852278+0.19732148j,  0.08663299+0.154856j  ,\n",
       "        -0.09228743-0.16281054j, -0.05821577+0.01990454j,\n",
       "        -0.05589892-0.03401436j,  0.03647514-0.08576608j,\n",
       "         0.10582032-0.02044032j, -0.09268133-0.07057596j,\n",
       "        -0.06226882-0.16942969j, -0.08552291-0.09594007j,\n",
       "        -0.00554003+0.18783904j,  0.11911837-0.2422507j ,\n",
       "         0.03070795-0.1880787j ,  0.02586905+0.02709379j],      dtype=complex128),\n",
       " Array([-0.00725164+0.02937691j,  0.00827156+0.01788919j,\n",
       "         0.03212574+0.21457996j, -0.0262976 +0.0220142j ,\n",
       "         0.02487207-0.17193701j,  0.05316349-0.02828123j,\n",
       "         0.00308129-0.13904289j,  0.04140883-0.17096802j,\n",
       "        -0.09078431+0.10166707j,  0.14433884+0.01817917j,\n",
       "         0.0904988 -0.28796762j,  0.1024071 +0.12194362j,\n",
       "        -0.02715559+0.03653567j, -0.10274771-0.11550567j,\n",
       "        -0.09170274-0.17432435j, -0.01993487+0.0960034j ],      dtype=complex128),\n",
       " Array([-0.03972292+0.01832188j,  0.12130869+0.10746626j,\n",
       "         0.00364249+0.12442779j,  0.00745061-0.16715916j,\n",
       "         0.02503881-0.03895568j, -0.03670184-0.05932158j,\n",
       "         0.07376551-0.1155888j , -0.1200746 -0.1440764j ,\n",
       "         0.04901259+0.15018678j, -0.20776946+0.09301689j,\n",
       "        -0.08500952-0.23616681j, -0.10803541+0.20261112j,\n",
       "         0.04294903-0.18529126j,  0.09945896+0.0818374j ,\n",
       "         0.08764259-0.09319457j, -0.00330373+0.08908899j],      dtype=complex128),\n",
       " Array([ 0.03385255+0.01102062j, -0.20506959+0.16041684j,\n",
       "        -0.02028929-0.0588956j ,  0.02135   -0.17729085j,\n",
       "        -0.02082456+0.05567186j,  0.01355621-0.05242913j,\n",
       "        -0.16075567-0.03741575j,  0.14344569-0.08556006j,\n",
       "        -0.01354584+0.11171322j,  0.14121073+0.11235485j,\n",
       "         0.04359907+0.01078711j,  0.00682138+0.19168508j,\n",
       "        -0.09592015-0.2435726j , -0.04921524+0.19496676j,\n",
       "        -0.06659905+0.06002699j,  0.07560065+0.10621625j],      dtype=complex128),\n",
       " Array([ 0.05264401-0.04072873j,  0.21778585+0.11319848j,\n",
       "        -0.00049738-0.19645652j,  0.00276015-0.14946303j,\n",
       "        -0.01818718+0.11936868j,  0.00509303+0.00789749j,\n",
       "         0.17321856+0.04751732j, -0.13835815+0.05145606j,\n",
       "        -0.01503265+0.00258321j, -0.02975521+0.06566496j,\n",
       "         0.01933107+0.20301003j,  0.07982801+0.04976711j,\n",
       "         0.08430022-0.21309225j, -0.01958532+0.21205364j,\n",
       "        -0.01402602+0.17462131j, -0.13046927+0.04634856j],      dtype=complex128),\n",
       " Array([-0.13062558-0.04190505j, -0.1406982 -0.02379051j,\n",
       "         0.10542039-0.22384836j, -0.03670742-0.04746257j,\n",
       "         0.07566285+0.18398757j,  0.00393352+0.06193605j,\n",
       "        -0.11435635+0.09983508j,  0.04457108+0.17667733j,\n",
       "         0.00870216-0.11852014j, -0.07504495-0.03041491j,\n",
       "        -0.01533239+0.25371675j, -0.10593115-0.07715633j,\n",
       "        -0.03706289-0.0357179j ,  0.02146517+0.10137591j,\n",
       "         0.09894145+0.17940678j,  0.1490437 -0.07160595j],      dtype=complex128),\n",
       " Array([ 0.17942998+0.00927822j,  0.06894651-0.13500996j,\n",
       "        -0.13961338-0.13408823j,  0.08346596+0.12106921j,\n",
       "        -0.13605024+0.0930456j , -0.01492897+0.05986811j,\n",
       "         0.01108916+0.14593839j,  0.08068746+0.18218665j,\n",
       "         0.03261294-0.14854199j,  0.05984082-0.05480394j,\n",
       "        -0.01261301+0.14625551j,  0.06429968-0.17731991j,\n",
       "         0.02459382+0.20320912j,  0.02941187-0.05089176j,\n",
       "        -0.06981852+0.11732807j, -0.12176155-0.16050093j],      dtype=complex128)]"
      ]
     },
     "execution_count": 35,
     "metadata": {},
     "output_type": "execute_result"
    }
   ],
   "source": [
    "kernel_list"
   ]
  },
  {
   "cell_type": "code",
   "execution_count": 34,
   "id": "f6d715c4-bfcf-45b7-96f5-8758bd57bfa2",
   "metadata": {},
   "outputs": [
    {
     "data": {
      "text/plain": [
       "[Array(0.00513625+0.00017109j, dtype=complex128),\n",
       " Array(0.00223579+0.00056511j, dtype=complex128),\n",
       " Array(0.00111385+0.0003738j, dtype=complex128),\n",
       " Array(0.00455664+0.00050241j, dtype=complex128),\n",
       " Array(0.00658601+0.00123341j, dtype=complex128),\n",
       " Array(-0.00333647+0.00728987j, dtype=complex128),\n",
       " Array(0.00010533+0.0015803j, dtype=complex128),\n",
       " Array(0.00139995+0.00114936j, dtype=complex128),\n",
       " Array(0.00313967+0.00274054j, dtype=complex128),\n",
       " Array(-8.16921587e-05-0.00295458j, dtype=complex128),\n",
       " Array(0.00117376+0.00045047j, dtype=complex128),\n",
       " Array(0.00264765+0.00043295j, dtype=complex128),\n",
       " Array(0.0014977+0.00037758j, dtype=complex128),\n",
       " Array(-0.00298208+0.00234116j, dtype=complex128),\n",
       " Array(0.00235462-0.00343176j, dtype=complex128),\n",
       " Array(0.00516761+0.00209346j, dtype=complex128)]"
      ]
     },
     "execution_count": 34,
     "metadata": {},
     "output_type": "execute_result"
    }
   ],
   "source": [
    "bias_list"
   ]
  },
  {
   "cell_type": "code",
   "execution_count": null,
   "id": "5773faa6-fb9d-439c-a355-0125b930cbe6",
   "metadata": {},
   "outputs": [],
   "source": []
  },
  {
   "cell_type": "code",
   "execution_count": null,
   "id": "754c0d46-cb15-4a28-afcd-908c641154ed",
   "metadata": {},
   "outputs": [],
   "source": []
  }
 ],
 "metadata": {
  "kernelspec": {
   "display_name": "Python 3 (ipykernel)",
   "language": "python",
   "name": "python3"
  },
  "language_info": {
   "codemirror_mode": {
    "name": "ipython",
    "version": 3
   },
   "file_extension": ".py",
   "mimetype": "text/x-python",
   "name": "python",
   "nbconvert_exporter": "python",
   "pygments_lexer": "ipython3",
   "version": "3.10.12"
  }
 },
 "nbformat": 4,
 "nbformat_minor": 5
}
